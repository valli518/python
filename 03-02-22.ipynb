{
 "cells": [
  {
   "cell_type": "markdown",
   "id": "aa308e05",
   "metadata": {},
   "source": [
    "### while\n",
    "- it exicutes block or set of instruction until the condition becomes false\n",
    "- in while we don't the range\n",
    "- excute faster than the for loop\n",
    "- user incremention"
   ]
  },
  {
   "cell_type": "code",
   "execution_count": null,
   "id": "2b9f8dae",
   "metadata": {},
   "outputs": [],
   "source": [
    "# while loop\n",
    "initialisation\n",
    "while(condition):\n",
    "    statements\n",
    "    increment/decrement"
   ]
  },
  {
   "cell_type": "code",
   "execution_count": 5,
   "id": "35b93162",
   "metadata": {},
   "outputs": [
    {
     "name": "stdout",
     "output_type": "stream",
     "text": [
      "vasavi\n",
      "vasavi\n"
     ]
    }
   ],
   "source": [
    "n=4\n",
    "while n<=5:\n",
    "    print(\"vasavi\")\n",
    "    n=n+1"
   ]
  },
  {
   "cell_type": "code",
   "execution_count": 6,
   "id": "519b998c",
   "metadata": {},
   "outputs": [
    {
     "name": "stdout",
     "output_type": "stream",
     "text": [
      "10 9 8 7 6 5 4 3 2 "
     ]
    }
   ],
   "source": [
    "n=10\n",
    "while n>1:\n",
    "    print(n,end=\" \")\n",
    "    n=n-1"
   ]
  },
  {
   "cell_type": "code",
   "execution_count": 8,
   "id": "fe59f3d0",
   "metadata": {},
   "outputs": [
    {
     "name": "stdout",
     "output_type": "stream",
     "text": [
      "234\n",
      "\n",
      "digit count: 3\n"
     ]
    }
   ],
   "source": [
    "# i/p 1234\n",
    "# o/p digit count:4\n",
    "s=int(input())\n",
    "c=0\n",
    "while(s!=0): #1234!=0 123!=0 12!-0 1!=0\n",
    "    c=c+1 #1234%10 123%10\n",
    "    s=s//10 \n",
    "print(\"\\ndigit count:\",c)"
   ]
  },
  {
   "cell_type": "code",
   "execution_count": 11,
   "id": "cb91b6f9",
   "metadata": {},
   "outputs": [
    {
     "name": "stdout",
     "output_type": "stream",
     "text": [
      "111\n",
      "palidrome\n"
     ]
    }
   ],
   "source": [
    "# check the number is palidrome or not\n",
    "temp=n\n",
    "rev=0\n",
    "n=int(input())\n",
    "while(n!=0):\n",
    "    rem=n%10\n",
    "    rev*rev*10+rem\n",
    "    n=n//10\n",
    "if(temp==rev):\n",
    "    print(\"palidrome\")\n",
    "else:\n",
    "    print(\"not palidrome\")"
   ]
  },
  {
   "cell_type": "code",
   "execution_count": null,
   "id": "3b29347d",
   "metadata": {},
   "outputs": [],
   "source": [
    "# nested for loop\n",
    "- for iter in range(start,end,step):\n",
    "- for iter in range(start,end,step):\n",
    "    statement1\n",
    "    statementn\n",
    "    "
   ]
  },
  {
   "cell_type": "code",
   "execution_count": null,
   "id": "0b9cbdf3",
   "metadata": {},
   "outputs": [],
   "source": [
    "# matrix formation\n",
    "- rows,columns\n",
    "- 2 dimensional\n",
    "    -1 2 3 \n",
    "     1 2 3"
   ]
  },
  {
   "cell_type": "code",
   "execution_count": 12,
   "id": "8762f3af",
   "metadata": {},
   "outputs": [
    {
     "name": "stdout",
     "output_type": "stream",
     "text": [
      "1 1 1 \n",
      "2 2 2 \n",
      "3 3 3 \n"
     ]
    }
   ],
   "source": [
    "# matrix\n",
    "for row in range(1,4):\n",
    "    for column in range(1,4):\n",
    "        print(row,end=\" \")\n",
    "    print()\n",
    "    \n"
   ]
  },
  {
   "cell_type": "code",
   "execution_count": 16,
   "id": "bab36a24",
   "metadata": {},
   "outputs": [
    {
     "name": "stdout",
     "output_type": "stream",
     "text": [
      "* * * * * * \n",
      "* * * * * * \n",
      "* * * * * * \n",
      "* * * * * * \n",
      "* * * * * * \n",
      "* * * * * * \n"
     ]
    }
   ],
   "source": [
    "# matrix\n",
    "for row in range(2,8):\n",
    "    for column in range(2,8):\n",
    "        print(\"*\",end=\" \")\n",
    "    print()"
   ]
  },
  {
   "cell_type": "code",
   "execution_count": 18,
   "id": "1f89d2f2",
   "metadata": {},
   "outputs": [
    {
     "name": "stdout",
     "output_type": "stream",
     "text": [
      "* \n",
      "* * \n",
      "* * * \n",
      "* * * * \n",
      "* * * * * \n"
     ]
    }
   ],
   "source": [
    " \n",
    "    for row in range(1,6):\n",
    "        for column in range(1,row+1):\n",
    "            print(\"*\",end=\" \")\n",
    "        print()\n",
    "    "
   ]
  },
  {
   "cell_type": "code",
   "execution_count": 19,
   "id": "f97a9f9c",
   "metadata": {},
   "outputs": [
    {
     "name": "stdout",
     "output_type": "stream",
     "text": [
      "* * * * * * \n",
      "* * * * * \n",
      "* * * * \n",
      "* * * \n",
      "* * \n",
      "* \n"
     ]
    }
   ],
   "source": [
    "    for row in range(6,0,-1):\n",
    "        for column in range(1,row+1):\n",
    "            print(\"*\",end=\" \")\n",
    "        print()\n",
    "    "
   ]
  },
  {
   "cell_type": "markdown",
   "id": "5f7c2823",
   "metadata": {},
   "source": [
    "# nested while\n",
    "- loop inside another loop\n",
    "    \n",
    "\n",
    "        \n",
    "        \n",
    "        \n",
    "    "
   ]
  },
  {
   "cell_type": "code",
   "execution_count": null,
   "id": "ec0a27c3",
   "metadata": {},
   "outputs": [],
   "source": [
    "# syntax\n",
    "initialization\n",
    "while condition:\n",
    "    statements\n",
    "    incre/decr\n",
    "    while condition\n",
    "    statements\n",
    "    incre/decr"
   ]
  },
  {
   "cell_type": "code",
   "execution_count": 33,
   "id": "27ce82d8",
   "metadata": {},
   "outputs": [
    {
     "ename": "IndentationError",
     "evalue": "unindent does not match any outer indentation level (<tokenize>, line 4)",
     "output_type": "error",
     "traceback": [
      "\u001b[1;36m  File \u001b[1;32m\"<tokenize>\"\u001b[1;36m, line \u001b[1;32m4\u001b[0m\n\u001b[1;33m    while j<=10:\u001b[0m\n\u001b[1;37m    ^\u001b[0m\n\u001b[1;31mIndentationError\u001b[0m\u001b[1;31m:\u001b[0m unindent does not match any outer indentation level\n"
     ]
    }
   ],
   "source": [
    "i=1\n",
    "while i<=10:\n",
    "     j=1\n",
    "    while j<=10:\n",
    "        print(i,\"*\",j,\"=\",i*j)\n",
    "        j+=1\n",
    "    print()\n",
    "    i+=1\n",
    "        \n",
    "    \n"
   ]
  },
  {
   "cell_type": "markdown",
   "id": "546db746",
   "metadata": {},
   "source": [
    "### jump statements\n",
    "- we called as unconditional jumps\n",
    "- break\n",
    "- continue\n",
    "- pass"
   ]
  },
  {
   "cell_type": "markdown",
   "id": "6e0f899c",
   "metadata": {},
   "source": [
    "### break\n",
    "- terminates the current loop statement\n",
    "- break is a keyword"
   ]
  },
  {
   "cell_type": "code",
   "execution_count": 37,
   "id": "fc71f38f",
   "metadata": {},
   "outputs": [
    {
     "name": "stdout",
     "output_type": "stream",
     "text": [
      "p\n",
      "y\n",
      "t\n"
     ]
    }
   ],
   "source": [
    "for i in \"python\":\n",
    "    if i==\"h\":\n",
    "        break\n",
    "    print(i)\n"
   ]
  },
  {
   "cell_type": "code",
   "execution_count": 43,
   "id": "a50fda03",
   "metadata": {},
   "outputs": [
    {
     "name": "stdout",
     "output_type": "stream",
     "text": [
      "1\n",
      "2\n",
      "3\n",
      "4\n",
      "5\n"
     ]
    }
   ],
   "source": [
    "n=1\n",
    "while n<=10:\n",
    "    print(n)\n",
    "    n=n+1\n",
    "    if n==6:\n",
    "        break\n",
    "\n",
    "\n"
   ]
  },
  {
   "cell_type": "markdown",
   "id": "071c3c84",
   "metadata": {},
   "source": [
    "### continue\n",
    "- it skip the only current iteration and continue the next iteration\n",
    "- continue is keyword"
   ]
  },
  {
   "cell_type": "code",
   "execution_count": 46,
   "id": "93bbfb21",
   "metadata": {},
   "outputs": [
    {
     "name": "stdout",
     "output_type": "stream",
     "text": [
      "0\n",
      "1\n",
      "2\n",
      "3\n",
      "4\n",
      "5\n",
      "7\n",
      "8\n",
      "9\n"
     ]
    }
   ],
   "source": [
    "for i in range(10):\n",
    "    if i==6:\n",
    "        continue\n",
    "        print(\"fdp\")\n",
    "    print(i)"
   ]
  },
  {
   "cell_type": "code",
   "execution_count": 48,
   "id": "bb00b052",
   "metadata": {},
   "outputs": [
    {
     "name": "stdout",
     "output_type": "stream",
     "text": [
      "1 3 5 7 9 "
     ]
    }
   ],
   "source": [
    "# print odd number using even number condition using continue\n",
    "for i in range(1,10):\n",
    "    if i%2==0:\n",
    "        continue\n",
    "    print(i,end=\" \")\n",
    "    "
   ]
  },
  {
   "cell_type": "markdown",
   "id": "681e7e1e",
   "metadata": {},
   "source": [
    "### pass\n",
    "- it is a keyword\n",
    "- when we need condition correct need to change another operation \n",
    "- it is a null operation\n",
    "- pass statements we use to create empty class also "
   ]
  },
  {
   "cell_type": "code",
   "execution_count": 49,
   "id": "da5456cc",
   "metadata": {},
   "outputs": [
    {
     "name": "stdout",
     "output_type": "stream",
     "text": [
      "p\n",
      "y\n",
      "t\n",
      "excuted\n",
      "h\n",
      "o\n",
      "n\n"
     ]
    }
   ],
   "source": [
    "s=\"python\"\n",
    "for i in s:\n",
    "    if i==\"h\":\n",
    "        pass\n",
    "        print(\"excuted\")\n",
    "    print(i)"
   ]
  },
  {
   "cell_type": "markdown",
   "id": "2103325e",
   "metadata": {},
   "source": [
    "#### strings\n",
    "- string is a group of characters\n",
    "- it is immutable and derived datatype \n",
    "- all strings return a new values"
   ]
  },
  {
   "cell_type": "code",
   "execution_count": 50,
   "id": "5a9302f8",
   "metadata": {},
   "outputs": [
    {
     "name": "stdout",
     "output_type": "stream",
     "text": [
      "<class 'str'>\n"
     ]
    }
   ],
   "source": [
    "a=\"moblie\"\n",
    "print(type(a))"
   ]
  },
  {
   "cell_type": "code",
   "execution_count": 51,
   "id": "b447d916",
   "metadata": {},
   "outputs": [
    {
     "name": "stdout",
     "output_type": "stream",
     "text": [
      "6\n"
     ]
    }
   ],
   "source": [
    "print(len(a))"
   ]
  },
  {
   "cell_type": "code",
   "execution_count": 52,
   "id": "4824d5bf",
   "metadata": {},
   "outputs": [
    {
     "name": "stdout",
     "output_type": "stream",
     "text": [
      "b\n"
     ]
    }
   ],
   "source": [
    "print(min(a))"
   ]
  },
  {
   "cell_type": "code",
   "execution_count": 53,
   "id": "fc62b3b5",
   "metadata": {},
   "outputs": [
    {
     "name": "stdout",
     "output_type": "stream",
     "text": [
      "o\n"
     ]
    }
   ],
   "source": [
    "print(max(a))"
   ]
  },
  {
   "cell_type": "code",
   "execution_count": 54,
   "id": "936dc051",
   "metadata": {},
   "outputs": [
    {
     "name": "stdout",
     "output_type": "stream",
     "text": [
      "['b', 'e', 'i', 'l', 'm', 'o']\n"
     ]
    }
   ],
   "source": [
    "print(sorted(a))"
   ]
  },
  {
   "cell_type": "code",
   "execution_count": 56,
   "id": "956292a4",
   "metadata": {},
   "outputs": [],
   "source": [
    "#print(sum(a))"
   ]
  },
  {
   "cell_type": "code",
   "execution_count": 57,
   "id": "7ce2ad70",
   "metadata": {},
   "outputs": [
    {
     "name": "stdout",
     "output_type": "stream",
     "text": [
      "pythonworkshop\n",
      "python workshop\n"
     ]
    },
    {
     "ename": "TypeError",
     "evalue": "can't multiply sequence by non-int of type 'str'",
     "output_type": "error",
     "traceback": [
      "\u001b[1;31m---------------------------------------------------------------------------\u001b[0m",
      "\u001b[1;31mTypeError\u001b[0m                                 Traceback (most recent call last)",
      "\u001b[1;32m~\\AppData\\Local\\Temp/ipykernel_2224/3618942689.py\u001b[0m in \u001b[0;36m<module>\u001b[1;34m\u001b[0m\n\u001b[0;32m      3\u001b[0m \u001b[0mprint\u001b[0m\u001b[1;33m(\u001b[0m\u001b[0ms\u001b[0m\u001b[1;33m+\u001b[0m\u001b[0mm\u001b[0m\u001b[1;33m)\u001b[0m\u001b[1;33m\u001b[0m\u001b[1;33m\u001b[0m\u001b[0m\n\u001b[0;32m      4\u001b[0m \u001b[0mprint\u001b[0m\u001b[1;33m(\u001b[0m\u001b[0ms\u001b[0m\u001b[1;33m,\u001b[0m\u001b[0mm\u001b[0m\u001b[1;33m)\u001b[0m\u001b[1;33m\u001b[0m\u001b[1;33m\u001b[0m\u001b[0m\n\u001b[1;32m----> 5\u001b[1;33m \u001b[0mprint\u001b[0m\u001b[1;33m(\u001b[0m\u001b[0ms\u001b[0m\u001b[1;33m*\u001b[0m\u001b[0mm\u001b[0m\u001b[1;33m)\u001b[0m\u001b[1;33m\u001b[0m\u001b[1;33m\u001b[0m\u001b[0m\n\u001b[0m",
      "\u001b[1;31mTypeError\u001b[0m: can't multiply sequence by non-int of type 'str'"
     ]
    }
   ],
   "source": [
    "s=\"python\"\n",
    "m=\"workshop\"\n",
    "print(s+m)\n",
    "print(s,m)\n",
    "print(s*m)"
   ]
  },
  {
   "cell_type": "code",
   "execution_count": 59,
   "id": "c0443272",
   "metadata": {},
   "outputs": [
    {
     "name": "stdout",
     "output_type": "stream",
     "text": [
      "15\n",
      "p\n",
      " \n",
      "h\n",
      "p\n",
      "o\n",
      "python workshop\n",
      "pohskrow nohtyp\n",
      "pyth\n",
      "n works\n",
      "\n"
     ]
    }
   ],
   "source": [
    "# slicling syntax:(start:end:step)\n",
    "# positive indexing(left to right)\n",
    "# negative indexing(right to left)\n",
    "s=\"python workshop\"\n",
    "print(len(s))\n",
    "print(s[0])\n",
    "print(s[6])\n",
    "print(s[12])\n",
    "print(s[-1])\n",
    "print(s[-2])\n",
    "print(s[::])\n",
    "print(s[::-1])\n",
    "print(s[0:4])\n",
    "print(s[5:12])\n",
    "print(s[-1:-5])"
   ]
  },
  {
   "cell_type": "code",
   "execution_count": 1,
   "id": "c7a8fc69",
   "metadata": {},
   "outputs": [
    {
     "data": {
      "text/plain": [
       "['__add__',\n",
       " '__class__',\n",
       " '__contains__',\n",
       " '__delattr__',\n",
       " '__dir__',\n",
       " '__doc__',\n",
       " '__eq__',\n",
       " '__format__',\n",
       " '__ge__',\n",
       " '__getattribute__',\n",
       " '__getitem__',\n",
       " '__getnewargs__',\n",
       " '__gt__',\n",
       " '__hash__',\n",
       " '__init__',\n",
       " '__init_subclass__',\n",
       " '__iter__',\n",
       " '__le__',\n",
       " '__len__',\n",
       " '__lt__',\n",
       " '__mod__',\n",
       " '__mul__',\n",
       " '__ne__',\n",
       " '__new__',\n",
       " '__reduce__',\n",
       " '__reduce_ex__',\n",
       " '__repr__',\n",
       " '__rmod__',\n",
       " '__rmul__',\n",
       " '__setattr__',\n",
       " '__sizeof__',\n",
       " '__str__',\n",
       " '__subclasshook__',\n",
       " 'capitalize',\n",
       " 'casefold',\n",
       " 'center',\n",
       " 'count',\n",
       " 'encode',\n",
       " 'endswith',\n",
       " 'expandtabs',\n",
       " 'find',\n",
       " 'format',\n",
       " 'format_map',\n",
       " 'index',\n",
       " 'isalnum',\n",
       " 'isalpha',\n",
       " 'isascii',\n",
       " 'isdecimal',\n",
       " 'isdigit',\n",
       " 'isidentifier',\n",
       " 'islower',\n",
       " 'isnumeric',\n",
       " 'isprintable',\n",
       " 'isspace',\n",
       " 'istitle',\n",
       " 'isupper',\n",
       " 'join',\n",
       " 'ljust',\n",
       " 'lower',\n",
       " 'lstrip',\n",
       " 'maketrans',\n",
       " 'partition',\n",
       " 'removeprefix',\n",
       " 'removesuffix',\n",
       " 'replace',\n",
       " 'rfind',\n",
       " 'rindex',\n",
       " 'rjust',\n",
       " 'rpartition',\n",
       " 'rsplit',\n",
       " 'rstrip',\n",
       " 'split',\n",
       " 'splitlines',\n",
       " 'startswith',\n",
       " 'strip',\n",
       " 'swapcase',\n",
       " 'title',\n",
       " 'translate',\n",
       " 'upper',\n",
       " 'zfill']"
      ]
     },
     "execution_count": 1,
     "metadata": {},
     "output_type": "execute_result"
    }
   ],
   "source": [
    "dir(str)"
   ]
  },
  {
   "cell_type": "code",
   "execution_count": 2,
   "id": "cc4cdb64",
   "metadata": {},
   "outputs": [],
   "source": [
    "s=\"vasavi cllg\"\n",
    "s='vasavi cllg'\n",
    "s1=''' iam valli cse branch'''\n",
    "s2=''' engineering\n",
    "attili'''\n"
   ]
  },
  {
   "cell_type": "code",
   "execution_count": 3,
   "id": "c4684a9f",
   "metadata": {},
   "outputs": [
    {
     "name": "stdout",
     "output_type": "stream",
     "text": [
      " iam valli cse branch\n"
     ]
    }
   ],
   "source": [
    "print(s1)\n"
   ]
  },
  {
   "cell_type": "code",
   "execution_count": 4,
   "id": "8a6b5abf",
   "metadata": {},
   "outputs": [
    {
     "name": "stdout",
     "output_type": "stream",
     "text": [
      " engineering\n",
      "attili\n"
     ]
    }
   ],
   "source": [
    "print(s2)"
   ]
  },
  {
   "cell_type": "code",
   "execution_count": 5,
   "id": "291ac284",
   "metadata": {},
   "outputs": [
    {
     "name": "stdout",
     "output_type": "stream",
     "text": [
      "Moblie\n",
      "MOBLIE\n",
      "moblie\n"
     ]
    }
   ],
   "source": [
    "a=\"moblie\"\n",
    "print(a.capitalize())\n",
    "print(a.upper())\n",
    "print(a.lower())"
   ]
  },
  {
   "cell_type": "code",
   "execution_count": 7,
   "id": "95132098",
   "metadata": {},
   "outputs": [
    {
     "name": "stdout",
     "output_type": "stream",
     "text": [
      "work shop\n",
      "Work Shop\n"
     ]
    }
   ],
   "source": [
    "m=\"work shop\" \n",
    "print(m)\n",
    "print(m.title())"
   ]
  },
  {
   "cell_type": "code",
   "execution_count": 10,
   "id": "ef3a18fb",
   "metadata": {},
   "outputs": [
    {
     "name": "stdout",
     "output_type": "stream",
     "text": [
      "True True False\n"
     ]
    }
   ],
   "source": [
    "s2=\"workshop\"\n",
    "s3=\"WORKSHOP\"\n",
    "s4=\"workshop\"\n",
    "print(s2.islower(),s3.isupper(),s4.isupper())"
   ]
  },
  {
   "cell_type": "code",
   "execution_count": 11,
   "id": "f509845e",
   "metadata": {},
   "outputs": [
    {
     "data": {
      "text/plain": [
       "False"
      ]
     },
     "execution_count": 11,
     "metadata": {},
     "output_type": "execute_result"
    }
   ],
   "source": [
    "s2=\"india is my country\"\n",
    "s2.istitle()"
   ]
  },
  {
   "cell_type": "code",
   "execution_count": 12,
   "id": "778045d5",
   "metadata": {},
   "outputs": [
    {
     "data": {
      "text/plain": [
       "True"
      ]
     },
     "execution_count": 12,
     "metadata": {},
     "output_type": "execute_result"
    }
   ],
   "source": [
    "f=\" \"\n",
    "f.isspace()"
   ]
  },
  {
   "cell_type": "code",
   "execution_count": 14,
   "id": "fa90ff9b",
   "metadata": {},
   "outputs": [
    {
     "data": {
      "text/plain": [
       "False"
      ]
     },
     "execution_count": 14,
     "metadata": {},
     "output_type": "execute_result"
    }
   ],
   "source": [
    "# is digit-which is used to identify the digits in a given string isalpha-which returns true,alphabets present in agiven string\n",
    "a=\"python\"\n",
    "a.isalpha()\n",
    "a.isdigit()"
   ]
  },
  {
   "cell_type": "code",
   "execution_count": 15,
   "id": "be0358b1",
   "metadata": {},
   "outputs": [
    {
     "data": {
      "text/plain": [
       "['python', 'is', 'a', 'latest', 'version']"
      ]
     },
     "execution_count": 15,
     "metadata": {},
     "output_type": "execute_result"
    }
   ],
   "source": [
    "q=\"python is a latest version\"\n",
    "q.split()"
   ]
  },
  {
   "cell_type": "code",
   "execution_count": 17,
   "id": "c88f3c97",
   "metadata": {},
   "outputs": [
    {
     "data": {
      "text/plain": [
       "['python', 'is a', ' latest', 'version']"
      ]
     },
     "execution_count": 17,
     "metadata": {},
     "output_type": "execute_result"
    }
   ],
   "source": [
    "q=\"python@is a@ latest@version\"\n",
    "q.split('@')"
   ]
  },
  {
   "cell_type": "code",
   "execution_count": 18,
   "id": "5a54a73e",
   "metadata": {},
   "outputs": [
    {
     "data": {
      "text/plain": [
       "['py', 'hon is a la', 'es', ' version']"
      ]
     },
     "execution_count": 18,
     "metadata": {},
     "output_type": "execute_result"
    }
   ],
   "source": [
    "q=\"python is a latest version\"\n",
    "q.split('t')"
   ]
  },
  {
   "cell_type": "code",
   "execution_count": 20,
   "id": "bde5e86e",
   "metadata": {},
   "outputs": [
    {
     "name": "stdout",
     "output_type": "stream",
     "text": [
      "python is a language\n"
     ]
    }
   ],
   "source": [
    "q=\"PYTHON IS A LANGUAGE\"\n",
    "q2=''\n",
    "for i in q:\n",
    "    if i.islower():\n",
    "        q2 +=i.upper()\n",
    "    else:\n",
    "        q2 +=i.lower()\n",
    "print(q2)\n",
    "    \n"
   ]
  },
  {
   "cell_type": "code",
   "execution_count": 22,
   "id": "8b35b7d2",
   "metadata": {},
   "outputs": [
    {
     "data": {
      "text/plain": [
       "'computer understand binary language'"
      ]
     },
     "execution_count": 22,
     "metadata": {},
     "output_type": "execute_result"
    }
   ],
   "source": [
    "l=\"computer understand binary language\"\n",
    "l\n"
   ]
  },
  {
   "cell_type": "code",
   "execution_count": 23,
   "id": "6d4ac298",
   "metadata": {},
   "outputs": [
    {
     "data": {
      "text/plain": [
       "4"
      ]
     },
     "execution_count": 23,
     "metadata": {},
     "output_type": "execute_result"
    }
   ],
   "source": [
    "# count :: to know the number of occurences\n",
    "l.count('a')"
   ]
  },
  {
   "cell_type": "code",
   "execution_count": 24,
   "id": "8c827b34",
   "metadata": {},
   "outputs": [
    {
     "data": {
      "text/plain": [
       "20"
      ]
     },
     "execution_count": 24,
     "metadata": {},
     "output_type": "execute_result"
    }
   ],
   "source": [
    "l.index('b')# searching start from beginning"
   ]
  },
  {
   "cell_type": "code",
   "execution_count": 25,
   "id": "76cbbacc",
   "metadata": {},
   "outputs": [
    {
     "data": {
      "text/plain": [
       "15"
      ]
     },
     "execution_count": 25,
     "metadata": {},
     "output_type": "execute_result"
    }
   ],
   "source": [
    "l.rindex('t')# searching start from end"
   ]
  },
  {
   "cell_type": "code",
   "execution_count": 26,
   "id": "b555805b",
   "metadata": {},
   "outputs": [
    {
     "data": {
      "text/plain": [
       "11"
      ]
     },
     "execution_count": 26,
     "metadata": {},
     "output_type": "execute_result"
    }
   ],
   "source": [
    "# find method--- it will return index position of that character\n",
    "l.find('d')"
   ]
  },
  {
   "cell_type": "code",
   "execution_count": 29,
   "id": "010cb336",
   "metadata": {},
   "outputs": [
    {
     "data": {
      "text/plain": [
       "16"
      ]
     },
     "execution_count": 29,
     "metadata": {},
     "output_type": "execute_result"
    }
   ],
   "source": [
    "l.index('and')\n"
   ]
  },
  {
   "cell_type": "code",
   "execution_count": 34,
   "id": "0b761196",
   "metadata": {},
   "outputs": [
    {
     "data": {
      "text/plain": [
       "'hii vasavi cllg'"
      ]
     },
     "execution_count": 34,
     "metadata": {},
     "output_type": "execute_result"
    }
   ],
   "source": [
    "# replace used to replace the old character\n",
    "# string used to remove whitespaces by default\n",
    "d=\"bye vasavi cllg\"\n",
    "d.replace('bye','hii')"
   ]
  },
  {
   "cell_type": "code",
   "execution_count": 37,
   "id": "67ab1f4b",
   "metadata": {},
   "outputs": [
    {
     "data": {
      "text/plain": [
       "'computer understand binary language    '"
      ]
     },
     "execution_count": 37,
     "metadata": {},
     "output_type": "execute_result"
    }
   ],
   "source": [
    "n=\"     computer understand binary language    \"\n",
    "n.lstrip()\n"
   ]
  },
  {
   "cell_type": "code",
   "execution_count": 38,
   "id": "5057721e",
   "metadata": {},
   "outputs": [
    {
     "data": {
      "text/plain": [
       "'     computer understand binary language'"
      ]
     },
     "execution_count": 38,
     "metadata": {},
     "output_type": "execute_result"
    }
   ],
   "source": [
    "n=\"     computer understand binary language    \"\n",
    "n.rstrip()"
   ]
  },
  {
   "cell_type": "code",
   "execution_count": 39,
   "id": "acc42306",
   "metadata": {},
   "outputs": [
    {
     "data": {
      "text/plain": [
       "'computer understand binary language'"
      ]
     },
     "execution_count": 39,
     "metadata": {},
     "output_type": "execute_result"
    }
   ],
   "source": [
    "n=\"     computer understand binary language    \"\n",
    "n.strip()"
   ]
  },
  {
   "cell_type": "code",
   "execution_count": 40,
   "id": "5caeec6c",
   "metadata": {},
   "outputs": [
    {
     "data": {
      "text/plain": [
       "'t@h@u@r@s@d@a@y'"
      ]
     },
     "execution_count": 40,
     "metadata": {},
     "output_type": "execute_result"
    }
   ],
   "source": [
    "# join\n",
    "# center\n",
    "# startwith\n",
    "# endswith\n",
    "s=\"thursday\"\n",
    "'@'.join(s)"
   ]
  },
  {
   "cell_type": "code",
   "execution_count": 41,
   "id": "ec5bb5d1",
   "metadata": {},
   "outputs": [
    {
     "data": {
      "text/plain": [
       "'t.h.u.r.s.d.a.y'"
      ]
     },
     "execution_count": 41,
     "metadata": {},
     "output_type": "execute_result"
    }
   ],
   "source": [
    "s=\"thursday\"\n",
    "'.'.join(s)"
   ]
  },
  {
   "cell_type": "code",
   "execution_count": 42,
   "id": "78dfc671",
   "metadata": {},
   "outputs": [
    {
     "data": {
      "text/plain": [
       "'thursday'"
      ]
     },
     "execution_count": 42,
     "metadata": {},
     "output_type": "execute_result"
    }
   ],
   "source": [
    "s.center(1)"
   ]
  },
  {
   "cell_type": "code",
   "execution_count": 43,
   "id": "67c2cd6d",
   "metadata": {},
   "outputs": [
    {
     "data": {
      "text/plain": [
       "'00thursday'"
      ]
     },
     "execution_count": 43,
     "metadata": {},
     "output_type": "execute_result"
    }
   ],
   "source": [
    "s.zfill(10)\n"
   ]
  },
  {
   "cell_type": "code",
   "execution_count": 51,
   "id": "a36bb1c0",
   "metadata": {},
   "outputs": [
    {
     "data": {
      "text/plain": [
       "'today is the 3rd day of the program'"
      ]
     },
     "execution_count": 51,
     "metadata": {},
     "output_type": "execute_result"
    }
   ],
   "source": [
    "s3=\"today is the 3rd day of the program\"\n",
    "len(s3)\n",
    "s3.zfill(25)"
   ]
  },
  {
   "cell_type": "code",
   "execution_count": 52,
   "id": "b3906b96",
   "metadata": {},
   "outputs": [
    {
     "data": {
      "text/plain": [
       "True"
      ]
     },
     "execution_count": 52,
     "metadata": {},
     "output_type": "execute_result"
    }
   ],
   "source": [
    "s3.startswith('to')"
   ]
  },
  {
   "cell_type": "code",
   "execution_count": 53,
   "id": "b759f4fe",
   "metadata": {},
   "outputs": [
    {
     "data": {
      "text/plain": [
       "False"
      ]
     },
     "execution_count": 53,
     "metadata": {},
     "output_type": "execute_result"
    }
   ],
   "source": [
    "s3.startswith('day')"
   ]
  },
  {
   "cell_type": "markdown",
   "id": "c0d36e7c",
   "metadata": {},
   "source": [
    "### data structures\n",
    "- list  \n",
    "    - list is a mutable\n",
    "    - represented with[]\n",
    "    - slicling indexing the same as the string concepts\n",
    "- tuple\n",
    "- dictionaries\n",
    "DT are 2 types:\n",
    "      -mutable\n",
    "            - we can't change it once it declared\n",
    "            - ex:list,dictionaries\n",
    "       - immutable\n",
    "               - we can change at any time after its declaration\n",
    "               - ex:string,tuple\n",
    "        \n",
    "        "
   ]
  },
  {
   "cell_type": "code",
   "execution_count": 54,
   "id": "7993320b",
   "metadata": {},
   "outputs": [
    {
     "name": "stdout",
     "output_type": "stream",
     "text": [
      "[1, 4, 6, 7, 8, 9]\n"
     ]
    }
   ],
   "source": [
    "li=[1,4,6,7,8,9]\n",
    "print(li)"
   ]
  },
  {
   "cell_type": "code",
   "execution_count": 55,
   "id": "d1fd2e1a",
   "metadata": {},
   "outputs": [
    {
     "data": {
      "text/plain": [
       "6"
      ]
     },
     "execution_count": 55,
     "metadata": {},
     "output_type": "execute_result"
    }
   ],
   "source": [
    "len(li)"
   ]
  },
  {
   "cell_type": "code",
   "execution_count": 56,
   "id": "b71f7343",
   "metadata": {},
   "outputs": [
    {
     "name": "stdout",
     "output_type": "stream",
     "text": [
      "length of the list 6\n",
      "max of the list 9\n",
      "min of the list 1\n"
     ]
    }
   ],
   "source": [
    "print(\"length of the list\",len(li))\n",
    "print(\"max of the list\",max(li))\n",
    "print(\"min of the list\",min(li))"
   ]
  },
  {
   "cell_type": "code",
   "execution_count": 57,
   "id": "db33b873",
   "metadata": {},
   "outputs": [],
   "source": [
    "a=['ball',4,6,8,3,5]\n",
    "b=[2,6,'apple']"
   ]
  },
  {
   "cell_type": "code",
   "execution_count": 58,
   "id": "0678ba69",
   "metadata": {},
   "outputs": [
    {
     "data": {
      "text/plain": [
       "['ball', 4, 6, 8, 3, 5, 2, 6, 'apple']"
      ]
     },
     "execution_count": 58,
     "metadata": {},
     "output_type": "execute_result"
    }
   ],
   "source": [
    "a+b #concatination"
   ]
  },
  {
   "cell_type": "code",
   "execution_count": 59,
   "id": "7bc5d151",
   "metadata": {},
   "outputs": [
    {
     "data": {
      "text/plain": [
       "[2, 6, 'apple', 'ball', 4, 6, 8, 3, 5]"
      ]
     },
     "execution_count": 59,
     "metadata": {},
     "output_type": "execute_result"
    }
   ],
   "source": [
    "b+a"
   ]
  },
  {
   "cell_type": "code",
   "execution_count": 60,
   "id": "65204383",
   "metadata": {},
   "outputs": [
    {
     "data": {
      "text/plain": [
       "['ball', 4, 6, 8, 3, 5, 'ball', 4, 6, 8, 3, 5, 'ball', 4, 6, 8, 3, 5]"
      ]
     },
     "execution_count": 60,
     "metadata": {},
     "output_type": "execute_result"
    }
   ],
   "source": [
    "# repetetion\n",
    "a*3"
   ]
  },
  {
   "cell_type": "code",
   "execution_count": 63,
   "id": "b307a2b1",
   "metadata": {},
   "outputs": [
    {
     "data": {
      "text/plain": [
       "['ball',\n",
       " 4,\n",
       " 6,\n",
       " 8,\n",
       " 3,\n",
       " 5,\n",
       " 2,\n",
       " 6,\n",
       " 'apple',\n",
       " 'ball',\n",
       " 4,\n",
       " 6,\n",
       " 8,\n",
       " 3,\n",
       " 5,\n",
       " 2,\n",
       " 6,\n",
       " 'apple',\n",
       " 'ball',\n",
       " 4,\n",
       " 6,\n",
       " 8,\n",
       " 3,\n",
       " 5,\n",
       " 2,\n",
       " 6,\n",
       " 'apple']"
      ]
     },
     "execution_count": 63,
     "metadata": {},
     "output_type": "execute_result"
    }
   ],
   "source": [
    "(a+b)*3"
   ]
  },
  {
   "cell_type": "code",
   "execution_count": 65,
   "id": "42d53c66",
   "metadata": {},
   "outputs": [
    {
     "data": {
      "text/plain": [
       "False"
      ]
     },
     "execution_count": 65,
     "metadata": {},
     "output_type": "execute_result"
    }
   ],
   "source": [
    "'apple' in a"
   ]
  },
  {
   "cell_type": "code",
   "execution_count": 66,
   "id": "65a0a41b",
   "metadata": {},
   "outputs": [
    {
     "data": {
      "text/plain": [
       "True"
      ]
     },
     "execution_count": 66,
     "metadata": {},
     "output_type": "execute_result"
    }
   ],
   "source": [
    "'ball' in a"
   ]
  },
  {
   "cell_type": "code",
   "execution_count": 69,
   "id": "c3981a0d",
   "metadata": {},
   "outputs": [
    {
     "data": {
      "text/plain": [
       "'vyshu'"
      ]
     },
     "execution_count": 69,
     "metadata": {},
     "output_type": "execute_result"
    }
   ],
   "source": [
    "names=['valli','devi','swapna','vyshu']\n",
    "names[0]\n",
    "names[3]"
   ]
  },
  {
   "cell_type": "code",
   "execution_count": 70,
   "id": "5679a0b3",
   "metadata": {},
   "outputs": [
    {
     "data": {
      "text/plain": [
       "['valli', 'devi', 'swapna']"
      ]
     },
     "execution_count": 70,
     "metadata": {},
     "output_type": "execute_result"
    }
   ],
   "source": [
    "names[3]\n",
    "names[:3]"
   ]
  },
  {
   "cell_type": "code",
   "execution_count": 71,
   "id": "ef9fc481",
   "metadata": {},
   "outputs": [
    {
     "data": {
      "text/plain": [
       "'lli devi'"
      ]
     },
     "execution_count": 71,
     "metadata": {},
     "output_type": "execute_result"
    }
   ],
   "source": [
    "s='valli devi'\n",
    "s[0]\n",
    "s[:3]\n",
    "s[0:3]\n",
    "s[2:6]\n",
    "s[2:]"
   ]
  },
  {
   "cell_type": "code",
   "execution_count": 77,
   "id": "4f5425a5",
   "metadata": {},
   "outputs": [],
   "source": [
    "lit=['Vsvt','cllg','students','hii']\n"
   ]
  },
  {
   "cell_type": "code",
   "execution_count": 78,
   "id": "c3adc792",
   "metadata": {},
   "outputs": [
    {
     "data": {
      "text/plain": [
       "['students', 'hii']"
      ]
     },
     "execution_count": 78,
     "metadata": {},
     "output_type": "execute_result"
    }
   ],
   "source": [
    "lit[2:]"
   ]
  },
  {
   "cell_type": "code",
   "execution_count": 79,
   "id": "416fb225",
   "metadata": {},
   "outputs": [
    {
     "data": {
      "text/plain": [
       "['Vsvt', 'cllg']"
      ]
     },
     "execution_count": 79,
     "metadata": {},
     "output_type": "execute_result"
    }
   ],
   "source": [
    "lit[:2]"
   ]
  },
  {
   "cell_type": "code",
   "execution_count": 80,
   "id": "863db001",
   "metadata": {},
   "outputs": [
    {
     "data": {
      "text/plain": [
       "['students', 'hii']"
      ]
     },
     "execution_count": 80,
     "metadata": {},
     "output_type": "execute_result"
    }
   ],
   "source": [
    "lit[2:5]"
   ]
  },
  {
   "cell_type": "code",
   "execution_count": null,
   "id": "5d9ac3c6",
   "metadata": {},
   "outputs": [],
   "source": []
  }
 ],
 "metadata": {
  "kernelspec": {
   "display_name": "Python 3 (ipykernel)",
   "language": "python",
   "name": "python3"
  },
  "language_info": {
   "codemirror_mode": {
    "name": "ipython",
    "version": 3
   },
   "file_extension": ".py",
   "mimetype": "text/x-python",
   "name": "python",
   "nbconvert_exporter": "python",
   "pygments_lexer": "ipython3",
   "version": "3.9.7"
  }
 },
 "nbformat": 4,
 "nbformat_minor": 5
}
