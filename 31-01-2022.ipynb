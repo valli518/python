{
 "cells": [
  {
   "cell_type": "code",
   "execution_count": 2,
   "id": "1531af7b",
   "metadata": {},
   "outputs": [],
   "source": [
    "a=24\n",
    "b=1.25\n",
    "c=\"hai\"\n",
    "d='hello'\n",
    "e=True\n",
    "f=1+6j"
   ]
  },
  {
   "cell_type": "code",
   "execution_count": 3,
   "id": "312edcd4",
   "metadata": {},
   "outputs": [
    {
     "name": "stdout",
     "output_type": "stream",
     "text": [
      "<class 'int'>\n",
      "<class 'float'>\n",
      "<class 'str'>\n",
      "<class 'str'>\n",
      "<class 'bool'>\n",
      "<class 'complex'>\n"
     ]
    }
   ],
   "source": [
    "print(type(a))\n",
    "print(type(b))\n",
    "print(type(c))\n",
    "print(type(d))\n",
    "print(type(e))\n",
    "print(type(f))"
   ]
  },
  {
   "cell_type": "markdown",
   "id": "59e2e313",
   "metadata": {},
   "source": [
    "## type casting\n",
    "- which converts one data type into another data type  "
   ]
  },
  {
   "cell_type": "code",
   "execution_count": 5,
   "id": "070cdbb4",
   "metadata": {},
   "outputs": [
    {
     "name": "stdout",
     "output_type": "stream",
     "text": [
      "<class 'str'>\n",
      "vasavi\n"
     ]
    }
   ],
   "source": [
    "abc=\"vasavi\"\n",
    "print(type(abc))\n",
    "print(abc)"
   ]
  },
  {
   "cell_type": "code",
   "execution_count": null,
   "id": "1a213645",
   "metadata": {},
   "outputs": [],
   "source": []
  }
 ],
 "metadata": {
  "kernelspec": {
   "display_name": "Python 3 (ipykernel)",
   "language": "python",
   "name": "python3"
  },
  "language_info": {
   "codemirror_mode": {
    "name": "ipython",
    "version": 3
   },
   "file_extension": ".py",
   "mimetype": "text/x-python",
   "name": "python",
   "nbconvert_exporter": "python",
   "pygments_lexer": "ipython3",
   "version": "3.9.7"
  }
 },
 "nbformat": 4,
 "nbformat_minor": 5
}
