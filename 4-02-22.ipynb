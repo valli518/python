{
 "cells": [
  {
   "cell_type": "code",
   "execution_count": 2,
   "id": "243776af",
   "metadata": {},
   "outputs": [
    {
     "name": "stdout",
     "output_type": "stream",
     "text": [
      "[2, 4, 7, 9, 'apple']\n",
      "[4, 7, 1, 2, 'valli']\n",
      "[2, 3, 4, 6, 'vishnu']\n"
     ]
    }
   ],
   "source": [
    "li=[2,4,7,9,'apple']\n",
    "li1=[4,7,1,2,'valli']\n",
    "li2=[2,3,4,6,'vishnu']\n",
    "print(li)\n",
    "print(li1)\n",
    "print(li2)"
   ]
  },
  {
   "cell_type": "code",
   "execution_count": 3,
   "id": "8a5942ba",
   "metadata": {},
   "outputs": [
    {
     "name": "stdout",
     "output_type": "stream",
     "text": [
      "[2, 4, 7, 9, 'apple']\n"
     ]
    }
   ],
   "source": [
    "# append we will add only single values\n",
    "# extends we will add more than one value using extend\n",
    "print(li)"
   ]
  },
  {
   "cell_type": "code",
   "execution_count": 4,
   "id": "7fa3b60b",
   "metadata": {},
   "outputs": [
    {
     "data": {
      "text/plain": [
       "[2, 4, 7, 9, 'apple', 76]"
      ]
     },
     "execution_count": 4,
     "metadata": {},
     "output_type": "execute_result"
    }
   ],
   "source": [
    "li.append(76)\n",
    "li"
   ]
  },
  {
   "cell_type": "code",
   "execution_count": 7,
   "id": "c4bfe69b",
   "metadata": {},
   "outputs": [
    {
     "data": {
      "text/plain": [
       "[2, 3, 4, 6, 'vishnu', 76, 77, 16]"
      ]
     },
     "execution_count": 7,
     "metadata": {},
     "output_type": "execute_result"
    }
   ],
   "source": [
    "li2.extend([76,77,16])\n",
    "li2"
   ]
  },
  {
   "cell_type": "code",
   "execution_count": 8,
   "id": "ae726641",
   "metadata": {},
   "outputs": [
    {
     "data": {
      "text/plain": [
       "[1, 4, 6, 7]"
      ]
     },
     "execution_count": 8,
     "metadata": {},
     "output_type": "execute_result"
    }
   ],
   "source": [
    "li=[1,4,6,7,8]\n",
    "li.pop()\n",
    "li"
   ]
  },
  {
   "cell_type": "code",
   "execution_count": 9,
   "id": "3fd88905",
   "metadata": {},
   "outputs": [
    {
     "data": {
      "text/plain": [
       "[7, 6, 4, 1]"
      ]
     },
     "execution_count": 9,
     "metadata": {},
     "output_type": "execute_result"
    }
   ],
   "source": [
    "li.reverse()\n",
    "li"
   ]
  },
  {
   "cell_type": "code",
   "execution_count": 10,
   "id": "3de46209",
   "metadata": {},
   "outputs": [
    {
     "data": {
      "text/plain": [
       "[1, 4, 6, 7]"
      ]
     },
     "execution_count": 10,
     "metadata": {},
     "output_type": "execute_result"
    }
   ],
   "source": [
    "li.sort()\n",
    "li"
   ]
  },
  {
   "cell_type": "code",
   "execution_count": 11,
   "id": "9d7fbc91",
   "metadata": {},
   "outputs": [
    {
     "data": {
      "text/plain": [
       "[]"
      ]
     },
     "execution_count": 11,
     "metadata": {},
     "output_type": "execute_result"
    }
   ],
   "source": [
    "li.clear()\n",
    "li"
   ]
  },
  {
   "cell_type": "code",
   "execution_count": 12,
   "id": "9d6c8936",
   "metadata": {},
   "outputs": [
    {
     "data": {
      "text/plain": [
       "[2, 4, 5, 6, 8, 7]"
      ]
     },
     "execution_count": 12,
     "metadata": {},
     "output_type": "execute_result"
    }
   ],
   "source": [
    "li=[2,4,5,6,7]\n",
    "li.insert(4,8)\n",
    "li"
   ]
  },
  {
   "cell_type": "code",
   "execution_count": 13,
   "id": "cd7e0b93",
   "metadata": {},
   "outputs": [
    {
     "name": "stdout",
     "output_type": "stream",
     "text": [
      "[0, 2, 4, 6, 8, 10]\n",
      "[1, 3, 5, 7, 9]\n",
      "[0, 2, 4, 6, 8, 10, 1, 3, 5, 7, 9]\n"
     ]
    }
   ],
   "source": [
    "# 0-10 range\n",
    "# program\n",
    "# print even number\n",
    "# print odd number\n",
    "# print result(total number)\n",
    "even=[]\n",
    "odd=[]\n",
    "for i in range(0,11):\n",
    "    if i%2==0:\n",
    "        even.append(i)\n",
    "    else:\n",
    "        odd.append(i)\n",
    "print(even)\n",
    "print(odd)\n",
    "print(even+odd)\n"
   ]
  },
  {
   "cell_type": "code",
   "execution_count": 15,
   "id": "8a3eebaf",
   "metadata": {},
   "outputs": [
    {
     "name": "stdout",
     "output_type": "stream",
     "text": [
      "\n",
      " largest number: 587\n"
     ]
    }
   ],
   "source": [
    "si=[34,78,37,50,284,400,48,587]\n",
    "    # print largest value\n",
    "high=0\n",
    "for i in si:\n",
    "    if i>=high:\n",
    "        high=i\n",
    "print(\"\\n largest number:\",high)\n",
    "    "
   ]
  },
  {
   "cell_type": "markdown",
   "id": "6a6f2f5f",
   "metadata": {},
   "source": [
    "### tuple\n",
    "- tuple represented with {}"
   ]
  },
  {
   "cell_type": "code",
   "execution_count": 16,
   "id": "8956a016",
   "metadata": {},
   "outputs": [
    {
     "data": {
      "text/plain": [
       "['__add__',\n",
       " '__class__',\n",
       " '__class_getitem__',\n",
       " '__contains__',\n",
       " '__delattr__',\n",
       " '__dir__',\n",
       " '__doc__',\n",
       " '__eq__',\n",
       " '__format__',\n",
       " '__ge__',\n",
       " '__getattribute__',\n",
       " '__getitem__',\n",
       " '__getnewargs__',\n",
       " '__gt__',\n",
       " '__hash__',\n",
       " '__init__',\n",
       " '__init_subclass__',\n",
       " '__iter__',\n",
       " '__le__',\n",
       " '__len__',\n",
       " '__lt__',\n",
       " '__mul__',\n",
       " '__ne__',\n",
       " '__new__',\n",
       " '__reduce__',\n",
       " '__reduce_ex__',\n",
       " '__repr__',\n",
       " '__rmul__',\n",
       " '__setattr__',\n",
       " '__sizeof__',\n",
       " '__str__',\n",
       " '__subclasshook__',\n",
       " 'count',\n",
       " 'index']"
      ]
     },
     "execution_count": 16,
     "metadata": {},
     "output_type": "execute_result"
    }
   ],
   "source": [
    "dir(tuple)"
   ]
  },
  {
   "cell_type": "code",
   "execution_count": 4,
   "id": "6b93739a",
   "metadata": {},
   "outputs": [
    {
     "data": {
      "text/plain": [
       "2"
      ]
     },
     "execution_count": 4,
     "metadata": {},
     "output_type": "execute_result"
    }
   ],
   "source": [
    "t=(1,4,6,7,5,3,5)\n",
    "t.count(5)"
   ]
  },
  {
   "cell_type": "code",
   "execution_count": 7,
   "id": "298a386c",
   "metadata": {},
   "outputs": [
    {
     "data": {
      "text/plain": [
       "2"
      ]
     },
     "execution_count": 7,
     "metadata": {},
     "output_type": "execute_result"
    }
   ],
   "source": [
    "t=(1,4,6,7,5,3,5)\n",
    "t.index(6)"
   ]
  },
  {
   "cell_type": "markdown",
   "id": "7feaeb7c",
   "metadata": {},
   "source": [
    "### sets\n",
    "- set repesented with {}\n",
    "\n",
    "\n",
    "\n",
    "\n",
    "\n"
   ]
  },
  {
   "cell_type": "code",
   "execution_count": 20,
   "id": "84948f1a",
   "metadata": {},
   "outputs": [
    {
     "name": "stdout",
     "output_type": "stream",
     "text": [
      "<class 'set'>\n"
     ]
    }
   ],
   "source": [
    "s={3,5,87,89,30}\n",
    "print(type(s))"
   ]
  },
  {
   "cell_type": "code",
   "execution_count": 26,
   "id": "bfe15f91",
   "metadata": {},
   "outputs": [
    {
     "data": {
      "text/plain": [
       "set"
      ]
     },
     "execution_count": 26,
     "metadata": {},
     "output_type": "execute_result"
    }
   ],
   "source": [
    "s={3,5,87,89,30}\n",
    "v=[2,5,7,8,6]\n",
    "p=(5,7,9,34,8)\n",
    "type(s)"
   ]
  },
  {
   "cell_type": "code",
   "execution_count": 24,
   "id": "8021cc6d",
   "metadata": {},
   "outputs": [
    {
     "data": {
      "text/plain": [
       "list"
      ]
     },
     "execution_count": 24,
     "metadata": {},
     "output_type": "execute_result"
    }
   ],
   "source": [
    "type(v)\n"
   ]
  },
  {
   "cell_type": "code",
   "execution_count": 27,
   "id": "1fdff44a",
   "metadata": {},
   "outputs": [
    {
     "data": {
      "text/plain": [
       "tuple"
      ]
     },
     "execution_count": 27,
     "metadata": {},
     "output_type": "execute_result"
    }
   ],
   "source": [
    "type(p)"
   ]
  },
  {
   "cell_type": "code",
   "execution_count": 28,
   "id": "29920f52",
   "metadata": {},
   "outputs": [
    {
     "name": "stdout",
     "output_type": "stream",
     "text": [
      "length of list: 5\n",
      "length of tuple: 5\n",
      "length of set: 5\n"
     ]
    }
   ],
   "source": [
    "print(\"length of list:\",len(v)) \n",
    "print(\"length of tuple:\",len(p)) \n",
    "print(\"length of set:\",len(s))"
   ]
  },
  {
   "cell_type": "code",
   "execution_count": 11,
   "id": "3b8ce19a",
   "metadata": {},
   "outputs": [
    {
     "data": {
      "text/plain": [
       "{'cat', 'dog', 'fox', 'tiger', 'zebra'}"
      ]
     },
     "execution_count": 11,
     "metadata": {},
     "output_type": "execute_result"
    }
   ],
   "source": [
    "c={'dog','cat','zebra','fox'}\n",
    "c.add('tiger')\n",
    "c"
   ]
  },
  {
   "cell_type": "code",
   "execution_count": 13,
   "id": "cc9c9569",
   "metadata": {},
   "outputs": [
    {
     "name": "stdout",
     "output_type": "stream",
     "text": [
      "{'dog', 'cat', 76, 77, 'tiger', 'zebra', 16, 'fox'}\n"
     ]
    }
   ],
   "source": [
    "# update to add multiple elements at a time in a set\n",
    "c.update([77,76,16])\n",
    "print(c)"
   ]
  },
  {
   "cell_type": "markdown",
   "id": "2976e172",
   "metadata": {},
   "source": [
    "# deletion\n",
    "- clear - to clear all the data\n",
    "- remove - it is used remove a particular value\n",
    "- discard -it is also use a discard a particular\n",
    "- pop -to delete random elements"
   ]
  },
  {
   "cell_type": "code",
   "execution_count": 14,
   "id": "48299ee9",
   "metadata": {},
   "outputs": [
    {
     "data": {
      "text/plain": [
       "{16, 76, 77, 'dog', 'fox', 'tiger', 'zebra'}"
      ]
     },
     "execution_count": 14,
     "metadata": {},
     "output_type": "execute_result"
    }
   ],
   "source": [
    "c.remove('cat')\n",
    "c"
   ]
  },
  {
   "cell_type": "code",
   "execution_count": 15,
   "id": "ceab7636",
   "metadata": {},
   "outputs": [
    {
     "data": {
      "text/plain": [
       "{16, 76, 'dog', 'fox', 'tiger', 'zebra'}"
      ]
     },
     "execution_count": 15,
     "metadata": {},
     "output_type": "execute_result"
    }
   ],
   "source": [
    "c.discard(77)\n",
    "c"
   ]
  },
  {
   "cell_type": "code",
   "execution_count": 17,
   "id": "a974b73a",
   "metadata": {},
   "outputs": [
    {
     "data": {
      "text/plain": [
       "{16, 76, 'fox', 'tiger', 'zebra'}"
      ]
     },
     "execution_count": 17,
     "metadata": {},
     "output_type": "execute_result"
    }
   ],
   "source": [
    "c.pop()\n",
    "c"
   ]
  },
  {
   "cell_type": "code",
   "execution_count": 18,
   "id": "abe85890",
   "metadata": {},
   "outputs": [
    {
     "data": {
      "text/plain": [
       "set()"
      ]
     },
     "execution_count": 18,
     "metadata": {},
     "output_type": "execute_result"
    }
   ],
   "source": [
    "c.clear()\n",
    "c"
   ]
  },
  {
   "cell_type": "markdown",
   "id": "e3f6c2cb",
   "metadata": {},
   "source": [
    "### set operations\n",
    "- union: combination all the elements from two sets\n",
    "- intersections: common elements from the two sets\n",
    "- differance:all the remaining elements from a set after removing common elements\n",
    "- symetric-differance uncommon elements from both sets"
   ]
  },
  {
   "cell_type": "code",
   "execution_count": 32,
   "id": "4710fa18",
   "metadata": {},
   "outputs": [
    {
     "data": {
      "text/plain": [
       "{2, 4, 33, 34, 46, 53, 54, 55, 65}"
      ]
     },
     "execution_count": 32,
     "metadata": {},
     "output_type": "execute_result"
    }
   ],
   "source": [
    "a=2,56,34,65,34,33}\n",
    "b={4,53,46,65,34,54}\n",
    "a.union(b)"
   ]
  },
  {
   "cell_type": "code",
   "execution_count": 33,
   "id": "dc2b3c2d",
   "metadata": {},
   "outputs": [
    {
     "name": "stdout",
     "output_type": "stream",
     "text": [
      "{65, 2, 34, 33, 55}\n",
      "{65, 34, 4, 53, 54, 46}\n"
     ]
    }
   ],
   "source": [
    "print(a)\n",
    "print(b)"
   ]
  },
  {
   "cell_type": "code",
   "execution_count": 34,
   "id": "af242dcf",
   "metadata": {},
   "outputs": [
    {
     "name": "stdout",
     "output_type": "stream",
     "text": [
      "{65, 34}\n"
     ]
    }
   ],
   "source": [
    "print(a.intersection(b))"
   ]
  },
  {
   "cell_type": "code",
   "execution_count": 38,
   "id": "cd11ad82",
   "metadata": {},
   "outputs": [
    {
     "name": "stdout",
     "output_type": "stream",
     "text": [
      "{33, 2, 55}\n",
      "{46, 4, 53, 54}\n"
     ]
    }
   ],
   "source": [
    "print(a.difference(b))\n",
    "print(b.difference(a))\n"
   ]
  },
  {
   "cell_type": "code",
   "execution_count": 42,
   "id": "c0f498f4",
   "metadata": {},
   "outputs": [
    {
     "name": "stdout",
     "output_type": "stream",
     "text": [
      "{33, 2, 4, 46, 53, 54, 55}\n"
     ]
    }
   ],
   "source": [
    "print(a.symmetric_difference(b))"
   ]
  },
  {
   "cell_type": "code",
   "execution_count": 40,
   "id": "ff48c59d",
   "metadata": {},
   "outputs": [
    {
     "data": {
      "text/plain": [
       "['__and__',\n",
       " '__class__',\n",
       " '__class_getitem__',\n",
       " '__contains__',\n",
       " '__delattr__',\n",
       " '__dir__',\n",
       " '__doc__',\n",
       " '__eq__',\n",
       " '__format__',\n",
       " '__ge__',\n",
       " '__getattribute__',\n",
       " '__gt__',\n",
       " '__hash__',\n",
       " '__iand__',\n",
       " '__init__',\n",
       " '__init_subclass__',\n",
       " '__ior__',\n",
       " '__isub__',\n",
       " '__iter__',\n",
       " '__ixor__',\n",
       " '__le__',\n",
       " '__len__',\n",
       " '__lt__',\n",
       " '__ne__',\n",
       " '__new__',\n",
       " '__or__',\n",
       " '__rand__',\n",
       " '__reduce__',\n",
       " '__reduce_ex__',\n",
       " '__repr__',\n",
       " '__ror__',\n",
       " '__rsub__',\n",
       " '__rxor__',\n",
       " '__setattr__',\n",
       " '__sizeof__',\n",
       " '__str__',\n",
       " '__sub__',\n",
       " '__subclasshook__',\n",
       " '__xor__',\n",
       " 'add',\n",
       " 'clear',\n",
       " 'copy',\n",
       " 'difference',\n",
       " 'difference_update',\n",
       " 'discard',\n",
       " 'intersection',\n",
       " 'intersection_update',\n",
       " 'isdisjoint',\n",
       " 'issubset',\n",
       " 'issuperset',\n",
       " 'pop',\n",
       " 'remove',\n",
       " 'symmetric_difference',\n",
       " 'symmetric_difference_update',\n",
       " 'union',\n",
       " 'update']"
      ]
     },
     "execution_count": 40,
     "metadata": {},
     "output_type": "execute_result"
    }
   ],
   "source": [
    "dir(set)"
   ]
  },
  {
   "cell_type": "code",
   "execution_count": 43,
   "id": "7197bf48",
   "metadata": {},
   "outputs": [
    {
     "data": {
      "text/plain": [
       "{2, 33, 34, 56, 65}"
      ]
     },
     "execution_count": 43,
     "metadata": {},
     "output_type": "execute_result"
    }
   ],
   "source": [
    "a={2,56,34,65,34,33}\n",
    "a1=a.copy()\n",
    "a1"
   ]
  },
  {
   "cell_type": "code",
   "execution_count": 46,
   "id": "58ceb0f6",
   "metadata": {},
   "outputs": [
    {
     "name": "stdout",
     "output_type": "stream",
     "text": [
      "False\n",
      "True\n"
     ]
    }
   ],
   "source": [
    "s={3,5,6,7,2,1}\n",
    "t={2,3,6,7}\n",
    "print(s.issubset(t))\n",
    "print(t.issubset(s))"
   ]
  },
  {
   "cell_type": "code",
   "execution_count": 47,
   "id": "c54a9a22",
   "metadata": {},
   "outputs": [
    {
     "name": "stdout",
     "output_type": "stream",
     "text": [
      "False\n"
     ]
    }
   ],
   "source": [
    "p={4,6,7,3,5,2}\n",
    "q={2,4,3,4,5}\n",
    "print(p.isdisjoint(q))"
   ]
  },
  {
   "cell_type": "code",
   "execution_count": 48,
   "id": "dad0dffe",
   "metadata": {},
   "outputs": [
    {
     "name": "stdout",
     "output_type": "stream",
     "text": [
      "{60, 70, 30}\n"
     ]
    }
   ],
   "source": [
    "p={30,60,70,40}\n",
    "q={23,40,90}\n",
    "print(p.difference(q))"
   ]
  },
  {
   "cell_type": "code",
   "execution_count": 49,
   "id": "9ecfe16b",
   "metadata": {},
   "outputs": [
    {
     "name": "stdout",
     "output_type": "stream",
     "text": [
      "None\n"
     ]
    }
   ],
   "source": [
    "print(p.difference_update(q))"
   ]
  },
  {
   "cell_type": "code",
   "execution_count": null,
   "id": "7190db63",
   "metadata": {},
   "outputs": [],
   "source": []
  },
  {
   "cell_type": "markdown",
   "id": "cf69587a",
   "metadata": {},
   "source": [
    "### dictionaries\n",
    "- dictionary is an unordered collection of items\n",
    "- each item of dictionary has a  key and value pair:::{key:value}\n",
    "- dictionary is mutable and changeable\n",
    "- in python dictionary is written in {}\n",
    "- keys are not allow duplicate values\n",
    "- values are allowed to duplicate values\n",
    "- entire dictionary depanding upon on key\n",
    "    - keys are unqiue in nature\n",
    "    - keys can be written in any data types\n",
    " - values maybe simliar to values,can be of any datatype\n",
    " - key and values together called as a item\n",
    " - in dictionaries indexing is not supported"
   ]
  },
  {
   "cell_type": "code",
   "execution_count": 50,
   "id": "b8463797",
   "metadata": {},
   "outputs": [
    {
     "name": "stdout",
     "output_type": "stream",
     "text": [
      "<class 'dict'>\n"
     ]
    }
   ],
   "source": [
    "d={}\n",
    "print(type(d))"
   ]
  },
  {
   "cell_type": "code",
   "execution_count": 51,
   "id": "a5bbb78e",
   "metadata": {},
   "outputs": [
    {
     "data": {
      "text/plain": [
       "{3: 4, 4: 8, 7: 9, 5: 2, 6: 9}"
      ]
     },
     "execution_count": 51,
     "metadata": {},
     "output_type": "execute_result"
    }
   ],
   "source": [
    "y={3:4,4:8,7:9,5:2,6:9}#\n",
    "y"
   ]
  },
  {
   "cell_type": "code",
   "execution_count": 53,
   "id": "3a462682",
   "metadata": {},
   "outputs": [
    {
     "name": "stdout",
     "output_type": "stream",
     "text": [
      "25\n",
      "7\n",
      "3\n",
      "5\n",
      "[3, 4, 5, 6, 7]\n"
     ]
    }
   ],
   "source": [
    "print(sum(y))\n",
    "print(max(y))\n",
    "print(min(y))\n",
    "print(len(y))\n",
    "print(sorted(y))"
   ]
  },
  {
   "cell_type": "code",
   "execution_count": 55,
   "id": "19082736",
   "metadata": {},
   "outputs": [
    {
     "name": "stdout",
     "output_type": "stream",
     "text": [
      "{2: 5, 6: 5, 9: 23, 5: 23, 7: 3}\n"
     ]
    }
   ],
   "source": [
    "r={2:5,6:5,9:23,5:23,7:3}\n",
    "print(r)"
   ]
  },
  {
   "cell_type": "code",
   "execution_count": 56,
   "id": "c8cce301",
   "metadata": {},
   "outputs": [
    {
     "data": {
      "text/plain": [
       "['__class__',\n",
       " '__class_getitem__',\n",
       " '__contains__',\n",
       " '__delattr__',\n",
       " '__delitem__',\n",
       " '__dir__',\n",
       " '__doc__',\n",
       " '__eq__',\n",
       " '__format__',\n",
       " '__ge__',\n",
       " '__getattribute__',\n",
       " '__getitem__',\n",
       " '__gt__',\n",
       " '__hash__',\n",
       " '__init__',\n",
       " '__init_subclass__',\n",
       " '__ior__',\n",
       " '__iter__',\n",
       " '__le__',\n",
       " '__len__',\n",
       " '__lt__',\n",
       " '__ne__',\n",
       " '__new__',\n",
       " '__or__',\n",
       " '__reduce__',\n",
       " '__reduce_ex__',\n",
       " '__repr__',\n",
       " '__reversed__',\n",
       " '__ror__',\n",
       " '__setattr__',\n",
       " '__setitem__',\n",
       " '__sizeof__',\n",
       " '__str__',\n",
       " '__subclasshook__',\n",
       " 'clear',\n",
       " 'copy',\n",
       " 'fromkeys',\n",
       " 'get',\n",
       " 'items',\n",
       " 'keys',\n",
       " 'pop',\n",
       " 'popitem',\n",
       " 'setdefault',\n",
       " 'update',\n",
       " 'values']"
      ]
     },
     "execution_count": 56,
     "metadata": {},
     "output_type": "execute_result"
    }
   ],
   "source": [
    "dir(dict)"
   ]
  },
  {
   "cell_type": "code",
   "execution_count": 57,
   "id": "79dcfc48",
   "metadata": {},
   "outputs": [
    {
     "data": {
      "text/plain": [
       "23"
      ]
     },
     "execution_count": 57,
     "metadata": {},
     "output_type": "execute_result"
    }
   ],
   "source": [
    "r.get(9)"
   ]
  },
  {
   "cell_type": "code",
   "execution_count": 58,
   "id": "9d542acb",
   "metadata": {},
   "outputs": [
    {
     "data": {
      "text/plain": [
       "dict_keys([2, 6, 9, 5, 7])"
      ]
     },
     "execution_count": 58,
     "metadata": {},
     "output_type": "execute_result"
    }
   ],
   "source": [
    "r.keys()"
   ]
  },
  {
   "cell_type": "code",
   "execution_count": 59,
   "id": "f6d3eafd",
   "metadata": {},
   "outputs": [
    {
     "data": {
      "text/plain": [
       "dict_values([5, 5, 23, 23, 3])"
      ]
     },
     "execution_count": 59,
     "metadata": {},
     "output_type": "execute_result"
    }
   ],
   "source": [
    "r.values()"
   ]
  },
  {
   "cell_type": "raw",
   "id": "62bcc27f",
   "metadata": {},
   "source": [
    "r['python']=\"workshop\"\n",
    "r"
   ]
  },
  {
   "cell_type": "code",
   "execution_count": 61,
   "id": "c13d18f7",
   "metadata": {},
   "outputs": [
    {
     "data": {
      "text/plain": [
       "23"
      ]
     },
     "execution_count": 61,
     "metadata": {},
     "output_type": "execute_result"
    }
   ],
   "source": [
    "r.pop(9)"
   ]
  },
  {
   "cell_type": "code",
   "execution_count": 62,
   "id": "531c5ba5",
   "metadata": {},
   "outputs": [
    {
     "data": {
      "text/plain": [
       "(7, 3)"
      ]
     },
     "execution_count": 62,
     "metadata": {},
     "output_type": "execute_result"
    }
   ],
   "source": [
    "r.popitem()"
   ]
  },
  {
   "cell_type": "code",
   "execution_count": 64,
   "id": "0cb5b07e",
   "metadata": {},
   "outputs": [
    {
     "data": {
      "text/plain": [
       "dict_items([(2, 5), (6, 5), (5, 23)])"
      ]
     },
     "execution_count": 64,
     "metadata": {},
     "output_type": "execute_result"
    }
   ],
   "source": [
    "r.items()"
   ]
  },
  {
   "cell_type": "code",
   "execution_count": 65,
   "id": "b2e91f88",
   "metadata": {},
   "outputs": [
    {
     "name": "stdout",
     "output_type": "stream",
     "text": [
      "{2: 5, 6: 5, 5: 23}\n",
      "{2: 5, 6: 5, 5: 23}\n"
     ]
    }
   ],
   "source": [
    "y=r.copy()\n",
    "print(y)\n",
    "print(r)"
   ]
  },
  {
   "cell_type": "code",
   "execution_count": 66,
   "id": "9f3f82f2",
   "metadata": {},
   "outputs": [
    {
     "data": {
      "text/plain": [
       "{'w': None, 'o': None, 'r': None, 'k': None}"
      ]
     },
     "execution_count": 66,
     "metadata": {},
     "output_type": "execute_result"
    }
   ],
   "source": [
    "r.fromkeys(\"work\")"
   ]
  },
  {
   "cell_type": "code",
   "execution_count": 67,
   "id": "14ebcb86",
   "metadata": {},
   "outputs": [
    {
     "data": {
      "text/plain": [
       "{'p': 45, 'y': 45, 't': 45, 'h': 45}"
      ]
     },
     "execution_count": 67,
     "metadata": {},
     "output_type": "execute_result"
    }
   ],
   "source": [
    "r.fromkeys(\"pyth\",45)"
   ]
  },
  {
   "cell_type": "code",
   "execution_count": null,
   "id": "11fe3730",
   "metadata": {},
   "outputs": [],
   "source": [
    "r.update({'valli':'dict'})"
   ]
  }
 ],
 "metadata": {
  "kernelspec": {
   "display_name": "Python 3 (ipykernel)",
   "language": "python",
   "name": "python3"
  },
  "language_info": {
   "codemirror_mode": {
    "name": "ipython",
    "version": 3
   },
   "file_extension": ".py",
   "mimetype": "text/x-python",
   "name": "python",
   "nbconvert_exporter": "python",
   "pygments_lexer": "ipython3",
   "version": "3.9.7"
  }
 },
 "nbformat": 4,
 "nbformat_minor": 5
}
