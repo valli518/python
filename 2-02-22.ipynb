{
 "cells": [
  {
   "cell_type": "markdown",
   "id": "bc155c40",
   "metadata": {},
   "source": [
    "### input and output methods  \n",
    "- reading data or information from the user----***input()***  \n",
    "    - static input  \n",
    "    - dynamical input\n",
    "- displaying information or data to the user---print()\n",
    "    \n"
   ]
  },
  {
   "cell_type": "code",
   "execution_count": 1,
   "id": "613f216d",
   "metadata": {},
   "outputs": [
    {
     "ename": "NameError",
     "evalue": "name 'integer' is not defined",
     "output_type": "error",
     "traceback": [
      "\u001b[1;31m---------------------------------------------------------------------------\u001b[0m",
      "\u001b[1;31mNameError\u001b[0m                                 Traceback (most recent call last)",
      "\u001b[1;32m~\\AppData\\Local\\Temp/ipykernel_3292/3442479891.py\u001b[0m in \u001b[0;36m<module>\u001b[1;34m\u001b[0m\n\u001b[1;32m----> 1\u001b[1;33m \u001b[0ma\u001b[0m\u001b[1;33m=\u001b[0m\u001b[0minteger\u001b[0m\u001b[1;33m(\u001b[0m\u001b[1;33m)\u001b[0m\u001b[1;33m\u001b[0m\u001b[1;33m\u001b[0m\u001b[0m\n\u001b[0m\u001b[0;32m      2\u001b[0m \u001b[0ma\u001b[0m\u001b[1;33m\u001b[0m\u001b[1;33m\u001b[0m\u001b[0m\n",
      "\u001b[1;31mNameError\u001b[0m: name 'integer' is not defined"
     ]
    }
   ],
   "source": [
    "a=integer()\n",
    "a"
   ]
  },
  {
   "cell_type": "code",
   "execution_count": 2,
   "id": "9072c408",
   "metadata": {},
   "outputs": [
    {
     "name": "stdout",
     "output_type": "stream",
     "text": [
      "valli\n"
     ]
    },
    {
     "data": {
      "text/plain": [
       "'valli'"
      ]
     },
     "execution_count": 2,
     "metadata": {},
     "output_type": "execute_result"
    }
   ],
   "source": [
    "a=input()\n",
    "a"
   ]
  },
  {
   "cell_type": "code",
   "execution_count": 3,
   "id": "3945188e",
   "metadata": {},
   "outputs": [
    {
     "name": "stdout",
     "output_type": "stream",
     "text": [
      "enter user value612\n"
     ]
    },
    {
     "data": {
      "text/plain": [
       "'612'"
      ]
     },
     "execution_count": 3,
     "metadata": {},
     "output_type": "execute_result"
    }
   ],
   "source": [
    "a=input(\"enter user value\")\n",
    "a"
   ]
  },
  {
   "cell_type": "code",
   "execution_count": 4,
   "id": "c2342925",
   "metadata": {},
   "outputs": [
    {
     "name": "stdout",
     "output_type": "stream",
     "text": [
      "enter user value5.7\n"
     ]
    },
    {
     "data": {
      "text/plain": [
       "'5.7'"
      ]
     },
     "execution_count": 4,
     "metadata": {},
     "output_type": "execute_result"
    }
   ],
   "source": [
    "a=input(\"enter user value\")\n",
    "a"
   ]
  },
  {
   "cell_type": "code",
   "execution_count": 5,
   "id": "85056eeb",
   "metadata": {},
   "outputs": [
    {
     "name": "stdout",
     "output_type": "stream",
     "text": [
      "enter user value16.7\n"
     ]
    },
    {
     "data": {
      "text/plain": [
       "16.7"
      ]
     },
     "execution_count": 5,
     "metadata": {},
     "output_type": "execute_result"
    }
   ],
   "source": [
    "a=float(input(\"enter user value\"))\n",
    "a"
   ]
  },
  {
   "cell_type": "code",
   "execution_count": 6,
   "id": "7d18ba9c",
   "metadata": {},
   "outputs": [
    {
     "name": "stdout",
     "output_type": "stream",
     "text": [
      "enter value468\n",
      "468\n"
     ]
    }
   ],
   "source": [
    "a=input(\"enter value\")\n",
    "print(a)"
   ]
  },
  {
   "cell_type": "code",
   "execution_count": 7,
   "id": "65f9bd1b",
   "metadata": {},
   "outputs": [
    {
     "name": "stdout",
     "output_type": "stream",
     "text": [
      "50 60 40\n"
     ]
    }
   ],
   "source": [
    "a=50\n",
    "b=60\n",
    "c=40\n",
    "print(a,b,c)"
   ]
  },
  {
   "cell_type": "code",
   "execution_count": 10,
   "id": "539ad43b",
   "metadata": {},
   "outputs": [
    {
     "name": "stdout",
     "output_type": "stream",
     "text": [
      "50;60;40\n"
     ]
    }
   ],
   "source": [
    "a=50\n",
    "b=60\n",
    "c=40\n",
    "print(a,b,c,sep=\";\")"
   ]
  },
  {
   "cell_type": "code",
   "execution_count": 13,
   "id": "f9396f59",
   "metadata": {},
   "outputs": [
    {
     "name": "stdout",
     "output_type": "stream",
     "text": [
      "enter 1st value70\n",
      "enter 2nd value50\n",
      "enter 3rd value30\n",
      "70$50$30%"
     ]
    }
   ],
   "source": [
    "# generate the three values from the user that values separated with $ and end with %\n",
    "a=input(\"enter 1st value\")\n",
    "b=input(\"enter 2nd value\")\n",
    "c=input(\"enter 3rd value\")\n",
    "print(a,b,c,sep=\"$\",end=\"%\")"
   ]
  },
  {
   "cell_type": "markdown",
   "id": "2d84eecb",
   "metadata": {},
   "source": [
    "## operators\n",
    "- arithamatic operator(+,-,*,**,//,/,%)\n",
    "    - output for the normal division is quotient\n",
    "    -output for the int division or floor divison is integer part of the quotient\n",
    "    -output for the module division is reminder\n",
    "- assignment operator(=)\n",
    "- comparision operator(<,>,<=,>=,==)\n",
    "- logicial operator(and,or,not)\n",
    "- bitwise operator(&,|,^)\n",
    "- identity opertors(is (==),isnot((=)\n",
    "- membership operator(in,notin)"
   ]
  },
  {
   "cell_type": "markdown",
   "id": "31aad9bf",
   "metadata": {},
   "source": [
    "### arithmatic operators\n"
   ]
  },
  {
   "cell_type": "code",
   "execution_count": 14,
   "id": "0d8f29ef",
   "metadata": {},
   "outputs": [
    {
     "name": "stdout",
     "output_type": "stream",
     "text": [
      "addition 70\n",
      "substraction 30\n",
      "multiplication 1000\n",
      "division 2.5\n",
      "power 9536743164062500000000000000000000\n",
      "int division or floor divison 2\n",
      "modules divison 10\n"
     ]
    }
   ],
   "source": [
    "a=50\n",
    "b=20\n",
    "print(\"addition\",a+b)\n",
    "print(\"substraction\",a-b)\n",
    "print(\"multiplication\",a*b)\n",
    "print(\"division\",a/b)\n",
    "print(\"power\",a**b)\n",
    "print(\"int division or floor divison\",a//b)\n",
    "print(\"modules divison\",a%b)"
   ]
  },
  {
   "cell_type": "markdown",
   "id": "8b053c1d",
   "metadata": {},
   "source": [
    "## assignment operators\n",
    "- its represented with =\n",
    "- left side value of the operator(=)is called as a variable\n",
    "- right side value of the variable(=) is called as a value"
   ]
  },
  {
   "cell_type": "code",
   "execution_count": 15,
   "id": "1a3312b1",
   "metadata": {},
   "outputs": [
    {
     "name": "stdout",
     "output_type": "stream",
     "text": [
      "20\n",
      "10\n"
     ]
    }
   ],
   "source": [
    "a=20\n",
    "b=10\n",
    "print(a)\n",
    "print(b)"
   ]
  },
  {
   "cell_type": "markdown",
   "id": "19425af8",
   "metadata": {},
   "source": [
    "## comparison operators\n"
   ]
  },
  {
   "cell_type": "code",
   "execution_count": 16,
   "id": "21e1a221",
   "metadata": {},
   "outputs": [
    {
     "data": {
      "text/plain": [
       "False"
      ]
     },
     "execution_count": 16,
     "metadata": {},
     "output_type": "execute_result"
    }
   ],
   "source": [
    "23>45\n"
   ]
  },
  {
   "cell_type": "code",
   "execution_count": 18,
   "id": "730d074c",
   "metadata": {},
   "outputs": [
    {
     "name": "stdout",
     "output_type": "stream",
     "text": [
      "not possible\n"
     ]
    }
   ],
   "source": [
    "if 2>9 and 6<=9:\n",
    "    print(\"print true or false\")\n",
    "else:\n",
    "    print(\"not possible\")"
   ]
  },
  {
   "cell_type": "markdown",
   "id": "8c542827",
   "metadata": {},
   "source": [
    "### logicial operators\n",
    "- and,or,not\n",
    "- if all the inputs are true the output is true(and)\n",
    "- if any of the input is true the ouput is true(or)\n",
    "- opposite operation for the given one(not)"
   ]
  },
  {
   "cell_type": "code",
   "execution_count": 20,
   "id": "4a57c6ab",
   "metadata": {},
   "outputs": [
    {
     "data": {
      "text/plain": [
       "True"
      ]
     },
     "execution_count": 20,
     "metadata": {},
     "output_type": "execute_result"
    }
   ],
   "source": [
    "2<5 and 7>6"
   ]
  },
  {
   "cell_type": "code",
   "execution_count": 22,
   "id": "9dac3489",
   "metadata": {},
   "outputs": [
    {
     "data": {
      "text/plain": [
       "True"
      ]
     },
     "execution_count": 22,
     "metadata": {},
     "output_type": "execute_result"
    }
   ],
   "source": [
    "3<2 or 8>6"
   ]
  },
  {
   "cell_type": "code",
   "execution_count": 24,
   "id": "04058be6",
   "metadata": {},
   "outputs": [
    {
     "data": {
      "text/plain": [
       "False"
      ]
     },
     "execution_count": 24,
     "metadata": {},
     "output_type": "execute_result"
    }
   ],
   "source": [
    "a=24455\n",
    "not a"
   ]
  },
  {
   "cell_type": "markdown",
   "id": "efd38b5c",
   "metadata": {},
   "source": [
    "## bitwase operators\n"
   ]
  },
  {
   "cell_type": "code",
   "execution_count": 26,
   "id": "d954554e",
   "metadata": {},
   "outputs": [
    {
     "data": {
      "text/plain": [
       "1"
      ]
     },
     "execution_count": 26,
     "metadata": {},
     "output_type": "execute_result"
    }
   ],
   "source": [
    "3 & 5\n",
    "# 3- 0 0 1 1\n",
    "# 5- 0 1 0 1\n",
    "#------------\n",
    "#    0 0 0 1"
   ]
  },
  {
   "cell_type": "markdown",
   "id": "34f618f1",
   "metadata": {},
   "source": [
    "## identity operators\n"
   ]
  },
  {
   "cell_type": "code",
   "execution_count": 27,
   "id": "bf0be600",
   "metadata": {},
   "outputs": [
    {
     "name": "stderr",
     "output_type": "stream",
     "text": [
      "<>:1: SyntaxWarning: \"is\" with a literal. Did you mean \"==\"?\n",
      "<>:1: SyntaxWarning: \"is\" with a literal. Did you mean \"==\"?\n",
      "C:\\Users\\efcodd\\AppData\\Local\\Temp/ipykernel_3292/779779209.py:1: SyntaxWarning: \"is\" with a literal. Did you mean \"==\"?\n",
      "  a is 100 and a!=100\n"
     ]
    },
    {
     "data": {
      "text/plain": [
       "False"
      ]
     },
     "execution_count": 27,
     "metadata": {},
     "output_type": "execute_result"
    }
   ],
   "source": [
    "a is 100 and a!=100"
   ]
  },
  {
   "cell_type": "markdown",
   "id": "26ae6fac",
   "metadata": {},
   "source": [
    "## membership operators\n"
   ]
  },
  {
   "cell_type": "code",
   "execution_count": 29,
   "id": "1b62ac8a",
   "metadata": {},
   "outputs": [
    {
     "data": {
      "text/plain": [
       "True"
      ]
     },
     "execution_count": 29,
     "metadata": {},
     "output_type": "execute_result"
    }
   ],
   "source": [
    "s=[2,3,4,6,7]\n",
    "7 in s"
   ]
  },
  {
   "cell_type": "code",
   "execution_count": 31,
   "id": "d688180d",
   "metadata": {},
   "outputs": [
    {
     "data": {
      "text/plain": [
       "True"
      ]
     },
     "execution_count": 31,
     "metadata": {},
     "output_type": "execute_result"
    }
   ],
   "source": [
    "5 not in s"
   ]
  },
  {
   "cell_type": "code",
   "execution_count": 32,
   "id": "d46634ff",
   "metadata": {},
   "outputs": [
    {
     "data": {
      "text/plain": [
       "False"
      ]
     },
     "execution_count": 32,
     "metadata": {},
     "output_type": "execute_result"
    }
   ],
   "source": [
    "1 in s"
   ]
  },
  {
   "cell_type": "code",
   "execution_count": 33,
   "id": "7eb4e77b",
   "metadata": {},
   "outputs": [],
   "source": [
    "b=69\n",
    "# b+=1 ------>b=b+1\n",
    "# b-=1 ------>b=b-1\n",
    "# b*=1 ------>b=b*1\n",
    "# b/=1 ------>b=b/1"
   ]
  },
  {
   "cell_type": "code",
   "execution_count": 34,
   "id": "bbb67b52",
   "metadata": {},
   "outputs": [
    {
     "data": {
      "text/plain": [
       "69"
      ]
     },
     "execution_count": 34,
     "metadata": {},
     "output_type": "execute_result"
    }
   ],
   "source": [
    "b"
   ]
  },
  {
   "cell_type": "markdown",
   "id": "656802f8",
   "metadata": {},
   "source": [
    "### flow controls\n",
    "- conditional statements(if, ifelse,nestedif)\n",
    "- loops (for,while)\n",
    "- break,return"
   ]
  },
  {
   "cell_type": "markdown",
   "id": "69525c47",
   "metadata": {},
   "source": [
    "## conditional statements"
   ]
  },
  {
   "cell_type": "code",
   "execution_count": null,
   "id": "d23e4bcb",
   "metadata": {},
   "outputs": [],
   "source": [
    "if (condition):\n",
    "    statement1\n",
    "    statement2\n",
    "    statement3\n",
    "    ----------\n",
    "    statementn\n",
    "    \n",
    "\n"
   ]
  },
  {
   "cell_type": "code",
   "execution_count": null,
   "id": "5b973367",
   "metadata": {},
   "outputs": [],
   "source": [
    "#if-else\n",
    "if(condition):\n",
    "    statement1\n",
    "    statement2\n",
    "    statement3\n",
    "    ----------\n",
    "    statementn\n",
    "else:\n",
    "    statement1\n",
    "    statement2\n",
    "    ----------\n",
    "    statementn\n",
    "    \n",
    "\n",
    "    \n",
    "\n"
   ]
  },
  {
   "cell_type": "code",
   "execution_count": 38,
   "id": "5b64536b",
   "metadata": {},
   "outputs": [
    {
     "name": "stdout",
     "output_type": "stream",
     "text": [
      "True\n",
      "False\n"
     ]
    }
   ],
   "source": [
    "if 2<3:\n",
    "  print(\"True\")\n",
    "  print(\"False\")"
   ]
  },
  {
   "cell_type": "code",
   "execution_count": 40,
   "id": "df225526",
   "metadata": {},
   "outputs": [
    {
     "name": "stdout",
     "output_type": "stream",
     "text": [
      "enter the number25\n",
      "odd\n"
     ]
    }
   ],
   "source": [
    "# given number is even or odd\n",
    "n=int(input(\"enter the number\"))\n",
    "if(n%2==0):\n",
    "    print(\"even\")\n",
    "else:\n",
    "    print(\"odd\")"
   ]
  },
  {
   "cell_type": "code",
   "execution_count": 42,
   "id": "507e558d",
   "metadata": {},
   "outputs": [
    {
     "name": "stdout",
     "output_type": "stream",
     "text": [
      "enter the number54\n",
      "positive\n"
     ]
    }
   ],
   "source": [
    "# given number is zero or positive or negative\n",
    "n=int(input(\"enter the number\"))\n",
    "if(n==0):\n",
    "    print(\"zero\")\n",
    "elif(n>0):\n",
    "    print(\"positive\")\n",
    "else:\n",
    "    print(\"negative\")\n",
    "    "
   ]
  },
  {
   "cell_type": "code",
   "execution_count": 47,
   "id": "1ceeb8d4",
   "metadata": {},
   "outputs": [
    {
     "name": "stdout",
     "output_type": "stream",
     "text": [
      "valid number\n"
     ]
    }
   ],
   "source": [
    "# number is divisible by 2 but not 10\n",
    "a=42\n",
    "if a%2==0  and a%10!=0:\n",
    "    print(\"valid number\")\n",
    "else:\n",
    "    print(\"invalid number\")"
   ]
  },
  {
   "cell_type": "markdown",
   "id": "dadd7694",
   "metadata": {},
   "source": [
    "### range\n",
    "- syntax for the range is range(start,endvalue,step value)\n",
    "- starting value is inclusive and end value is exclusive"
   ]
  },
  {
   "cell_type": "code",
   "execution_count": null,
   "id": "e898e506",
   "metadata": {},
   "outputs": [],
   "source": [
    "range(10,20,1)\n",
    "# 10 11 12 13 14 15 16 17 18 19 \n",
    "range(20,50,3)\n",
    "# 20 22 24 26 28\n",
    "range(50)\n",
    "#consider start,end values\n",
    "range(60,50,-3)\n",
    "# for reverse\n",
    "\n"
   ]
  },
  {
   "cell_type": "code",
   "execution_count": 48,
   "id": "375e4df2",
   "metadata": {},
   "outputs": [
    {
     "data": {
      "text/plain": [
       "[10, 11, 12, 13, 14, 15, 16, 17, 18, 19]"
      ]
     },
     "execution_count": 48,
     "metadata": {},
     "output_type": "execute_result"
    }
   ],
   "source": [
    "list(range(10,20,1))"
   ]
  },
  {
   "cell_type": "code",
   "execution_count": 49,
   "id": "6d45924a",
   "metadata": {},
   "outputs": [
    {
     "data": {
      "text/plain": [
       "[20, 21, 22, 23, 24, 25, 26, 27, 28, 29]"
      ]
     },
     "execution_count": 49,
     "metadata": {},
     "output_type": "execute_result"
    }
   ],
   "source": [
    "list(range(20,30,1))\n"
   ]
  },
  {
   "cell_type": "code",
   "execution_count": 50,
   "id": "7de5395f",
   "metadata": {},
   "outputs": [
    {
     "data": {
      "text/plain": [
       "[0, 1, 2, 3, 4, 5, 6, 7, 8, 9]"
      ]
     },
     "execution_count": 50,
     "metadata": {},
     "output_type": "execute_result"
    }
   ],
   "source": [
    "list(range(10))"
   ]
  },
  {
   "cell_type": "code",
   "execution_count": 51,
   "id": "2006170c",
   "metadata": {},
   "outputs": [
    {
     "data": {
      "text/plain": [
       "[20, 21, 22, 23, 24, 25, 26, 27, 28, 29]"
      ]
     },
     "execution_count": 51,
     "metadata": {},
     "output_type": "execute_result"
    }
   ],
   "source": [
    "list(range(20,30))"
   ]
  },
  {
   "cell_type": "markdown",
   "id": "fcc12bc3",
   "metadata": {},
   "source": [
    "### loops\n",
    "- for,while\n",
    "- for loop::: is for loop inpython is a control flow statement that is used to repeatedly execute a group of statements as long as condition is satisifed such atype of statements is also known as itterative statements"
   ]
  },
  {
   "cell_type": "code",
   "execution_count": null,
   "id": "b8876024",
   "metadata": {},
   "outputs": [],
   "source": [
    "syntax::::\n",
    "        for iter is iterable:#range pre-defined function in the postiion of iterable\n",
    "        statement1\n",
    "        statement2\n",
    "        statementn"
   ]
  },
  {
   "cell_type": "code",
   "execution_count": 2,
   "id": "ee8cbae1",
   "metadata": {},
   "outputs": [
    {
     "name": "stdout",
     "output_type": "stream",
     "text": [
      "0\n",
      "1\n",
      "2\n",
      "3\n",
      "4\n",
      "5\n"
     ]
    }
   ],
   "source": [
    "for i in range(6):\n",
    "    print(i)"
   ]
  },
  {
   "cell_type": "code",
   "execution_count": 6,
   "id": "195d3fc3",
   "metadata": {},
   "outputs": [
    {
     "name": "stdout",
     "output_type": "stream",
     "text": [
      "0 1 2 3 4 5 "
     ]
    }
   ],
   "source": [
    "for i in range(6):\n",
    "    print(i,end=\" \")"
   ]
  },
  {
   "cell_type": "code",
   "execution_count": 7,
   "id": "9c3303ec",
   "metadata": {},
   "outputs": [
    {
     "name": "stdout",
     "output_type": "stream",
     "text": [
      "0,1,2,3,4,5,"
     ]
    }
   ],
   "source": [
    "for i in range(6):\n",
    "    print(i,end=\",\")"
   ]
  },
  {
   "cell_type": "code",
   "execution_count": 9,
   "id": "af211f56",
   "metadata": {},
   "outputs": [
    {
     "name": "stdout",
     "output_type": "stream",
     "text": [
      "0 \n",
      " even number count: 0\n",
      "2 \n",
      " even number count: 0\n",
      "4 \n",
      " even number count: 0\n",
      "6 \n",
      " even number count: 0\n",
      "8 \n",
      " even number count: 0\n",
      "10 \n",
      " even number count: 0\n",
      "12 \n",
      " even number count: 0\n",
      "14 \n",
      " even number count: 0\n",
      "16 \n",
      " even number count: 0\n",
      "18 \n",
      " even number count: 0\n",
      "20 \n",
      " even number count: 0\n",
      "22 \n",
      " even number count: 0\n",
      "24 \n",
      " even number count: 0\n",
      "26 \n",
      " even number count: 0\n",
      "28 \n",
      " even number count: 0\n",
      "30 \n",
      " even number count: 0\n",
      "32 \n",
      " even number count: 0\n",
      "34 \n",
      " even number count: 0\n",
      "36 \n",
      " even number count: 0\n",
      "38 \n",
      " even number count: 0\n",
      "40 \n",
      " even number count: 0\n",
      "42 \n",
      " even number count: 0\n",
      "44 \n",
      " even number count: 0\n",
      "46 \n",
      " even number count: 0\n",
      "48 \n",
      " even number count: 0\n",
      "50 \n",
      " even number count: 0\n",
      "52 \n",
      " even number count: 0\n",
      "54 \n",
      " even number count: 0\n",
      "56 \n",
      " even number count: 0\n",
      "58 \n",
      " even number count: 0\n",
      "60 \n",
      " even number count: 0\n",
      "62 \n",
      " even number count: 0\n",
      "64 \n",
      " even number count: 0\n",
      "66 \n",
      " even number count: 0\n",
      "68 \n",
      " even number count: 0\n",
      "70 \n",
      " even number count: 0\n",
      "72 \n",
      " even number count: 0\n",
      "74 \n",
      " even number count: 0\n",
      "76 \n",
      " even number count: 0\n",
      "78 \n",
      " even number count: 0\n",
      "80 \n",
      " even number count: 0\n",
      "82 \n",
      " even number count: 0\n",
      "84 \n",
      " even number count: 0\n",
      "86 \n",
      " even number count: 0\n",
      "88 \n",
      " even number count: 0\n",
      "90 \n",
      " even number count: 0\n",
      "92 \n",
      " even number count: 0\n",
      "94 \n",
      " even number count: 0\n",
      "96 \n",
      " even number count: 0\n",
      "98 \n",
      " even number count: 0\n",
      "100 \n",
      " even number count: 0\n"
     ]
    }
   ],
   "source": [
    "# print the even number in the range of 0 to 100 and print the count\n",
    "c=0\n",
    "for i in range(0,101,2):\n",
    "    c=c+1\n",
    "    print(i,end=\" \")\n",
    "    print(\"\\n even number count:\",b)"
   ]
  },
  {
   "cell_type": "code",
   "execution_count": 14,
   "id": "07dc9e34",
   "metadata": {},
   "outputs": [
    {
     "name": "stdout",
     "output_type": "stream",
     "text": [
      "2000\n",
      "2020\n",
      "2000 \n",
      " years count 1\n",
      "2004 \n",
      " years count 2\n",
      "2008 \n",
      " years count 3\n",
      "2012 \n",
      " years count 4\n",
      "2016 \n",
      " years count 5\n",
      "2020 \n",
      " years count 6\n"
     ]
    }
   ],
   "source": [
    "# print leap years from the range of2000 to 2050 print year count\n",
    "x=int(input())\n",
    "y=int(input())\n",
    "c=0\n",
    "for i in range(x,y+1):\n",
    "    if(i%400==0) and (i%400!=0) or (i%4==0):\n",
    "        c=c+1\n",
    "        print(i,end=\" \")\n",
    "        print(\"\\n years count\",c)\n",
    "\n"
   ]
  },
  {
   "cell_type": "code",
   "execution_count": 18,
   "id": "409bd86f",
   "metadata": {},
   "outputs": [
    {
     "name": "stdout",
     "output_type": "stream",
     "text": [
      "6 * = 6\n",
      "6 * = 12\n",
      "6 * = 18\n",
      "6 * = 24\n",
      "6 * = 30\n",
      "6 * = 36\n",
      "6 * = 42\n",
      "6 * = 48\n",
      "6 * = 54\n",
      "6 * = 60\n"
     ]
    }
   ],
   "source": [
    "# print 6 table\n",
    "n=6\n",
    "for i in range(1,11):\n",
    "    print(n,\"*\",\"=\",n*i)\n",
    "    \n"
   ]
  },
  {
   "cell_type": "code",
   "execution_count": 26,
   "id": "a04587ce",
   "metadata": {},
   "outputs": [
    {
     "name": "stdout",
     "output_type": "stream",
     "text": [
      "6\n",
      "1 2 3 6 "
     ]
    }
   ],
   "source": [
    "# factorial of  5\n",
    "n=int(input())\n",
    "for i in range(1,n+1):\n",
    "    if(n%i==0):\n",
    "        print(i,end=\" \")\n",
    "\n"
   ]
  },
  {
   "cell_type": "code",
   "execution_count": 30,
   "id": "e750d8e9",
   "metadata": {},
   "outputs": [
    {
     "name": "stdout",
     "output_type": "stream",
     "text": [
      "valli\n",
      "536\n"
     ]
    }
   ],
   "source": [
    "# I/p=aba\n",
    "# 97+98+97=292\n",
    "# o/p=292\n",
    "a=input()\n",
    "s=0\n",
    "for i in a:\n",
    "    s=s+ord(i)\n",
    "print(s)\n"
   ]
  },
  {
   "cell_type": "code",
   "execution_count": 38,
   "id": "c42b1987",
   "metadata": {},
   "outputs": [
    {
     "name": "stdout",
     "output_type": "stream",
     "text": [
      "7\n",
      "prime\n"
     ]
    }
   ],
   "source": [
    "# prime number\n",
    "n=int(input())\n",
    "for i in range(n,n+1):\n",
    "    if(n%i==0):\n",
    "        print(\"prime\")\n",
    "    else:\n",
    "        print(\"not prime\")\n"
   ]
  },
  {
   "cell_type": "code",
   "execution_count": 48,
   "id": "dba1d92a",
   "metadata": {},
   "outputs": [
    {
     "name": "stdout",
     "output_type": "stream",
     "text": [
      "0\n",
      "10\n",
      "even number are 0 2 4 6 8 10 \n",
      "odd number are 1 3 5 7 9 "
     ]
    }
   ],
   "source": [
    "# 0-10\n",
    "# even \n",
    "#odd\n",
    "n=int(input())\n",
    "m=int(input())\n",
    "print(\"even number are\",end=\" \")\n",
    "for i in range(n,m+1):\n",
    "    if(i%2==0):\n",
    "        print(i,end=\" \")\n",
    "print(\"\\nodd number are\",end=\" \")\n",
    "for i in range(n,m+1):\n",
    "    if(i%2!=0):\n",
    "        print(i,end=\" \")\n",
    "        \n",
    "\n",
    "\n",
    "    \n",
    "    \n",
    "    \n",
    "    \n"
   ]
  },
  {
   "cell_type": "code",
   "execution_count": null,
   "id": "b5754fe9",
   "metadata": {},
   "outputs": [],
   "source": []
  }
 ],
 "metadata": {
  "kernelspec": {
   "display_name": "Python 3 (ipykernel)",
   "language": "python",
   "name": "python3"
  },
  "language_info": {
   "codemirror_mode": {
    "name": "ipython",
    "version": 3
   },
   "file_extension": ".py",
   "mimetype": "text/x-python",
   "name": "python",
   "nbconvert_exporter": "python",
   "pygments_lexer": "ipython3",
   "version": "3.9.7"
  }
 },
 "nbformat": 4,
 "nbformat_minor": 5
}
