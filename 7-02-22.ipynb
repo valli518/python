{
 "cells": [
  {
   "cell_type": "markdown",
   "id": "cd226e8b",
   "metadata": {},
   "source": [
    "- python\n",
    "    - python is a programming paradism means it supports functional programming and object oriented programming and also works with procedure oriented programming\n",
    "- procedure oriented language\n",
    "    - procedure oriented means write our programming language using fuctions and classes\n",
    " - object oriented language\n",
    "     - object-is areal world entity\n",
    "     - class:logical entity contains logic of the application"
   ]
  },
  {
   "cell_type": "code",
   "execution_count": 1,
   "id": "13fb46b5",
   "metadata": {},
   "outputs": [],
   "source": [
    "# syntax::\n",
    "class class_name:\n",
    "    variables\n",
    "    methods or function"
   ]
  },
  {
   "cell_type": "code",
   "execution_count": 2,
   "id": "bc352ab3",
   "metadata": {},
   "outputs": [
    {
     "name": "stdout",
     "output_type": "stream",
     "text": [
      "hii\n"
     ]
    }
   ],
   "source": [
    "print(\"hii\")"
   ]
  },
  {
   "cell_type": "code",
   "execution_count": 3,
   "id": "66d0e8e5",
   "metadata": {},
   "outputs": [
    {
     "data": {
      "text/plain": [
       "83"
      ]
     },
     "execution_count": 3,
     "metadata": {},
     "output_type": "execute_result"
    }
   ],
   "source": [
    "5+78"
   ]
  },
  {
   "cell_type": "code",
   "execution_count": 4,
   "id": "f657d12c",
   "metadata": {},
   "outputs": [],
   "source": [
    "class Hi:\n",
    "    a=60\n",
    "    b=56\n",
    "    name=\"cse\"\n",
    "    def show():\n",
    "        print(\"iam from show() function\")\n",
    "    "
   ]
  },
  {
   "cell_type": "code",
   "execution_count": 5,
   "id": "399bf8fd",
   "metadata": {},
   "outputs": [
    {
     "data": {
      "text/plain": [
       "60"
      ]
     },
     "execution_count": 5,
     "metadata": {},
     "output_type": "execute_result"
    }
   ],
   "source": [
    "Hi.a"
   ]
  },
  {
   "cell_type": "code",
   "execution_count": 6,
   "id": "ed1ba019",
   "metadata": {},
   "outputs": [
    {
     "data": {
      "text/plain": [
       "56"
      ]
     },
     "execution_count": 6,
     "metadata": {},
     "output_type": "execute_result"
    }
   ],
   "source": [
    "Hi.b"
   ]
  },
  {
   "cell_type": "code",
   "execution_count": 7,
   "id": "4c1f2216",
   "metadata": {},
   "outputs": [
    {
     "name": "stdout",
     "output_type": "stream",
     "text": [
      "iam from show() function\n"
     ]
    }
   ],
   "source": [
    "Hi.show()"
   ]
  },
  {
   "cell_type": "code",
   "execution_count": 8,
   "id": "025ecd24",
   "metadata": {},
   "outputs": [
    {
     "data": {
      "text/plain": [
       "'cse'"
      ]
     },
     "execution_count": 8,
     "metadata": {},
     "output_type": "execute_result"
    }
   ],
   "source": [
    "Hi.name"
   ]
  },
  {
   "cell_type": "code",
   "execution_count": 9,
   "id": "2b0d85ca",
   "metadata": {},
   "outputs": [
    {
     "name": "stdout",
     "output_type": "stream",
     "text": [
      "moblie python\n",
      "iam fron display function()\n",
      "None\n"
     ]
    }
   ],
   "source": [
    "class Hi:\n",
    "    name=\"moblie\"\n",
    "    program_name='python'\n",
    "    def display():\n",
    "        print(\"iam fron display function()\")\n",
    "    def show():\n",
    "        print(\"iam from show()\")\n",
    "print(Hi.name,Hi.program_name)\n",
    "print(Hi.display())"
   ]
  },
  {
   "cell_type": "code",
   "execution_count": 11,
   "id": "79b0f472",
   "metadata": {},
   "outputs": [
    {
     "name": "stdout",
     "output_type": "stream",
     "text": [
      "iam from show()\n"
     ]
    }
   ],
   "source": [
    "Hi.show()"
   ]
  },
  {
   "cell_type": "code",
   "execution_count": 12,
   "id": "434ebf4d",
   "metadata": {},
   "outputs": [
    {
     "name": "stdout",
     "output_type": "stream",
     "text": [
      "iam fron display function()\n",
      "iam from return statements\n",
      "iam from show()\n",
      "None\n"
     ]
    }
   ],
   "source": [
    "class Hello:\n",
    "    name=\"moblie\"\n",
    "    def display():\n",
    "        print(\"iam fron display function()\")\n",
    "        return(\"iam from return statements\")\n",
    "    def show():\n",
    "        print(\"iam from show()\")\n",
    "print(Hello.display())\n",
    "print(Hello.show())"
   ]
  },
  {
   "cell_type": "code",
   "execution_count": null,
   "id": "6e16ebd3",
   "metadata": {},
   "outputs": [],
   "source": [
    "# in java object declaration\n",
    "    # class_name obj_name=new class-name\n",
    "# python\n",
    "    # obj_name=class_name"
   ]
  },
  {
   "cell_type": "code",
   "execution_count": 14,
   "id": "029b74a7",
   "metadata": {},
   "outputs": [
    {
     "name": "stdout",
     "output_type": "stream",
     "text": [
      "moblie python\n",
      "iam fron display function()\n",
      " iam return staements\n"
     ]
    }
   ],
   "source": [
    "class Hi:\n",
    "    name=\"moblie\"\n",
    "    program_name='python'\n",
    "    def display(self):\n",
    "        print(\"iam fron display function()\")\n",
    "        return(\" iam return staements\")\n",
    "    def show():\n",
    "        print(\"iam from show()\")\n",
    "obj=Hi()\n",
    "print(obj.name,obj.program_name)\n",
    "print(obj.display())"
   ]
  },
  {
   "cell_type": "markdown",
   "id": "5f1eb59a",
   "metadata": {},
   "source": [
    "### constructor\n",
    "- constructor without using object we will call methods\n",
    "    - in java:: class name should be same as method name\n",
    "    - in python: we will use one special method to define constructor\n",
    "    - __init(self)__"
   ]
  },
  {
   "cell_type": "code",
   "execution_count": 15,
   "id": "822bf36a",
   "metadata": {},
   "outputs": [
    {
     "name": "stdout",
     "output_type": "stream",
     "text": [
      "hii valli\n",
      "your roll_no 21A85A0518\n"
     ]
    }
   ],
   "source": [
    "class Hai:\n",
    "    def __init__(self,name,roll_no):\n",
    "        self.name=name\n",
    "        self.roll_no=roll_no\n",
    "        print(\"hii\",self.name)\n",
    "    def display(self):\n",
    "        print(\"your roll_no\",self.roll_no)\n",
    "obj=Hai('valli','21A85A0518')\n",
    "obj.display()"
   ]
  },
  {
   "cell_type": "markdown",
   "id": "3b584b09",
   "metadata": {},
   "source": [
    "### inheritance\n",
    "- inherits something from parent class to child class"
   ]
  },
  {
   "cell_type": "code",
   "execution_count": null,
   "id": "3ac808eb",
   "metadata": {},
   "outputs": [],
   "source": [
    "class A:\n",
    "    #a,b=30,c=70\n",
    "class B(A):\n",
    "    #c,d=40,50"
   ]
  },
  {
   "cell_type": "code",
   "execution_count": 17,
   "id": "d08738dc",
   "metadata": {},
   "outputs": [
    {
     "name": "stdout",
     "output_type": "stream",
     "text": [
      "67 20\n",
      "iam from class B\n",
      " iam from class A\n"
     ]
    }
   ],
   "source": [
    "class A:\n",
    "    a,b=20,40\n",
    "    def msg():\n",
    "        print(\" iam from class A\")\n",
    "class B(A):\n",
    "    c,d=67,76\n",
    "    def msg1():\n",
    "        print(\"iam from class B\")\n",
    "obj=B\n",
    "print(obj.c,obj.a)\n",
    "obj.msg1()\n",
    "obj.msg()"
   ]
  },
  {
   "cell_type": "markdown",
   "id": "174853d1",
   "metadata": {},
   "source": [
    "## python libararies for data science\n",
    "- organizing,processing,analyzing the huge amount data\n",
    "- apply data visualization\n",
    "- extracting the data from the source\n",
    "- nearly 20 python libararies are there\n"
   ]
  },
  {
   "cell_type": "markdown",
   "id": "837a6d26",
   "metadata": {},
   "source": [
    "## top\n",
    "- numpy\n",
    "- pandas\n",
    "- matplotlib"
   ]
  },
  {
   "cell_type": "markdown",
   "id": "d3b44f1d",
   "metadata": {},
   "source": [
    "## numpy\n",
    "- numpy::(num+py) means numerical data+ python\n",
    "- it is fundamental package for scientific computing in python\n",
    "- numpy is python libarary\n",
    "- it is used to create mulit-dimensional arrays for fast opearations\n",
    "    - its dealing with mathematical scientific staticial data\n",
    "    - numpy cointains a powerful n-dimentional array object which in the form\n",
    "    - we can initialise numpy arrays from nested python lists"
   ]
  },
  {
   "cell_type": "code",
   "execution_count": null,
   "id": "ca13b7a7",
   "metadata": {},
   "outputs": [],
   "source": [
    "# how to install numpy\n",
    "- pip install numpy"
   ]
  },
  {
   "cell_type": "code",
   "execution_count": 19,
   "id": "7f755e99",
   "metadata": {},
   "outputs": [],
   "source": [
    "# how to import and use numpy package\n",
    "import numpy as np"
   ]
  },
  {
   "cell_type": "code",
   "execution_count": 20,
   "id": "df416424",
   "metadata": {},
   "outputs": [
    {
     "data": {
      "text/plain": [
       "'1.20.3'"
      ]
     },
     "execution_count": 20,
     "metadata": {},
     "output_type": "execute_result"
    }
   ],
   "source": [
    "## how to find the numpy version\n",
    "np.__version__"
   ]
  },
  {
   "cell_type": "code",
   "execution_count": 21,
   "id": "ac1f53ab",
   "metadata": {},
   "outputs": [
    {
     "name": "stdout",
     "output_type": "stream",
     "text": [
      "[1 2 3 4]\n",
      "<class 'numpy.ndarray'>\n"
     ]
    }
   ],
   "source": [
    "## how to create numpy array\n",
    "import numpy as np\n",
    "a=np.array([1,2,3,4]) # single dimensional array\n",
    "print(a)\n",
    "print(type(a))"
   ]
  },
  {
   "cell_type": "code",
   "execution_count": 23,
   "id": "dce74148",
   "metadata": {},
   "outputs": [
    {
     "name": "stdout",
     "output_type": "stream",
     "text": [
      "[[2 3 4]\n",
      " [5 7 8]]\n",
      "<class 'numpy.ndarray'>\n"
     ]
    }
   ],
   "source": [
    "a2=np.array([[2,3,4],[5,7,8]])\n",
    "print(a2)\n",
    "print(type(a2))"
   ]
  },
  {
   "cell_type": "code",
   "execution_count": 24,
   "id": "0ae86ba6",
   "metadata": {},
   "outputs": [
    {
     "data": {
      "text/plain": [
       "(2, 3)"
      ]
     },
     "execution_count": 24,
     "metadata": {},
     "output_type": "execute_result"
    }
   ],
   "source": [
    "# to know about the shape of the array\n",
    "a2.shape"
   ]
  },
  {
   "cell_type": "code",
   "execution_count": 25,
   "id": "941b508a",
   "metadata": {},
   "outputs": [
    {
     "name": "stdout",
     "output_type": "stream",
     "text": [
      "<class 'list'>\n",
      "['4' '6' '8' 'h' 'j']\n",
      "<class 'numpy.ndarray'>\n"
     ]
    }
   ],
   "source": [
    "li=[4,6,8,'h','j']\n",
    "print(type(li))\n",
    "a1=np.array(li)\n",
    "print(a1)\n",
    "print(type(a1))"
   ]
  },
  {
   "cell_type": "code",
   "execution_count": 26,
   "id": "7a35780b",
   "metadata": {},
   "outputs": [
    {
     "name": "stdout",
     "output_type": "stream",
     "text": [
      "[[2 3]\n",
      " [6 7]]\n"
     ]
    }
   ],
   "source": [
    "b=np.array([[2,3],[6,7]])\n",
    "print(b)"
   ]
  },
  {
   "cell_type": "code",
   "execution_count": 28,
   "id": "0eac6d84",
   "metadata": {},
   "outputs": [
    {
     "ename": "NameError",
     "evalue": "name 'ar' is not defined",
     "output_type": "error",
     "traceback": [
      "\u001b[1;31m---------------------------------------------------------------------------\u001b[0m",
      "\u001b[1;31mNameError\u001b[0m                                 Traceback (most recent call last)",
      "\u001b[1;32m~\\AppData\\Local\\Temp/ipykernel_3844/1447218831.py\u001b[0m in \u001b[0;36m<module>\u001b[1;34m\u001b[0m\n\u001b[1;32m----> 1\u001b[1;33m \u001b[0mprint\u001b[0m\u001b[1;33m(\u001b[0m\u001b[0mar\u001b[0m\u001b[1;33m.\u001b[0m\u001b[0mbtype\u001b[0m\u001b[1;33m)\u001b[0m\u001b[1;33m\u001b[0m\u001b[1;33m\u001b[0m\u001b[0m\n\u001b[0m",
      "\u001b[1;31mNameError\u001b[0m: name 'ar' is not defined"
     ]
    }
   ],
   "source": [
    "print(ar.btype)"
   ]
  },
  {
   "cell_type": "code",
   "execution_count": 30,
   "id": "01513580",
   "metadata": {},
   "outputs": [
    {
     "data": {
      "text/plain": [
       "array([[4, 5],\n",
       "       [7, 8],\n",
       "       [9, 3]])"
      ]
     },
     "execution_count": 30,
     "metadata": {},
     "output_type": "execute_result"
    }
   ],
   "source": [
    "ar=np.array([[4,5],[7,8],[9,3]])\n",
    "ar"
   ]
  },
  {
   "cell_type": "code",
   "execution_count": 32,
   "id": "95f7b9c3",
   "metadata": {},
   "outputs": [
    {
     "name": "stdout",
     "output_type": "stream",
     "text": [
      "int32\n"
     ]
    }
   ],
   "source": [
    "print(ar.dtype)"
   ]
  },
  {
   "cell_type": "code",
   "execution_count": 33,
   "id": "28e1ec32",
   "metadata": {},
   "outputs": [
    {
     "name": "stdout",
     "output_type": "stream",
     "text": [
      "(2, 2)\n"
     ]
    }
   ],
   "source": [
    "print(b.shape)"
   ]
  },
  {
   "cell_type": "code",
   "execution_count": 34,
   "id": "4fcdd0f4",
   "metadata": {},
   "outputs": [
    {
     "data": {
      "text/plain": [
       "4"
      ]
     },
     "execution_count": 34,
     "metadata": {},
     "output_type": "execute_result"
    }
   ],
   "source": [
    "b.itemsize"
   ]
  },
  {
   "cell_type": "code",
   "execution_count": 35,
   "id": "6d09121d",
   "metadata": {},
   "outputs": [
    {
     "data": {
      "text/plain": [
       "2"
      ]
     },
     "execution_count": 35,
     "metadata": {},
     "output_type": "execute_result"
    }
   ],
   "source": [
    "b.ndim"
   ]
  },
  {
   "cell_type": "code",
   "execution_count": 36,
   "id": "29aabc04",
   "metadata": {},
   "outputs": [
    {
     "name": "stdout",
     "output_type": "stream",
     "text": [
      "[0 1 2 3 4 5 6 7 8 9]\n",
      "<class 'numpy.ndarray'>\n",
      "(10,)\n",
      "10\n",
      "[2]\n",
      "1\n"
     ]
    }
   ],
   "source": [
    "# range\n",
    "a=np.array(range(10))\n",
    "print(a)\n",
    "print(type(a))\n",
    "print(a.shape)\n",
    "print(a.size)\n",
    "b=np.array(range(2,4,6))\n",
    "print(b)\n",
    "print(b.ndim)"
   ]
  },
  {
   "cell_type": "code",
   "execution_count": 38,
   "id": "9c5cec7e",
   "metadata": {},
   "outputs": [
    {
     "data": {
      "text/plain": [
       "array([ 1,  4,  7, 10, 13, 16, 19])"
      ]
     },
     "execution_count": 38,
     "metadata": {},
     "output_type": "execute_result"
    }
   ],
   "source": [
    "a=np.arange(1,20,3)\n",
    "a"
   ]
  },
  {
   "cell_type": "code",
   "execution_count": 39,
   "id": "6f3c46d0",
   "metadata": {},
   "outputs": [
    {
     "data": {
      "text/plain": [
       "array([0, 1, 2, 3, 4, 5, 6, 7, 8, 9])"
      ]
     },
     "execution_count": 39,
     "metadata": {},
     "output_type": "execute_result"
    }
   ],
   "source": [
    "# arange()- third party of numpy libarary\n",
    "a=np.arange(10)\n",
    "a"
   ]
  },
  {
   "cell_type": "code",
   "execution_count": 41,
   "id": "f9a96d66",
   "metadata": {},
   "outputs": [
    {
     "data": {
      "text/plain": [
       "array([ 0,  1,  2,  3,  4,  5,  6,  7,  8,  9, 10, 11, 12, 13, 14, 15, 16,\n",
       "       17, 18, 19])"
      ]
     },
     "execution_count": 41,
     "metadata": {},
     "output_type": "execute_result"
    }
   ],
   "source": [
    "a=np.arange(20)\n",
    "a"
   ]
  },
  {
   "cell_type": "code",
   "execution_count": 43,
   "id": "a31d7d14",
   "metadata": {},
   "outputs": [
    {
     "name": "stdout",
     "output_type": "stream",
     "text": [
      "[[0 1]\n",
      " [2 3]\n",
      " [4 5]\n",
      " [6 7]\n",
      " [8 9]]\n"
     ]
    }
   ],
   "source": [
    "y=np.arange(10)\n",
    "print(y.reshape(5,2))\n",
    "\n"
   ]
  },
  {
   "cell_type": "code",
   "execution_count": 45,
   "id": "ae6d7fbd",
   "metadata": {},
   "outputs": [
    {
     "name": "stdout",
     "output_type": "stream",
     "text": [
      "(6,)\n",
      "before reshape [1 2 3 4 5 6]\n",
      "1\n",
      "after reshape [[1 2]\n",
      " [3 4]\n",
      " [5 6]]\n",
      "<built-in method reshape of numpy.ndarray object at 0x00000023D996F630>\n",
      "2\n"
     ]
    }
   ],
   "source": [
    "# reshape of array\n",
    "a1=np.array([1,2,3,4,5,6])\n",
    "print(a1.shape)\n",
    "print(\"before reshape\",a1)\n",
    "print(a1.ndim)\n",
    "a2=a1.reshape(3,2)\n",
    "print(\"after reshape\",a2)\n",
    "print(a2.reshape)\n",
    "print(a2.ndim)"
   ]
  },
  {
   "cell_type": "code",
   "execution_count": 46,
   "id": "55054fdc",
   "metadata": {},
   "outputs": [
    {
     "name": "stdout",
     "output_type": "stream",
     "text": [
      "[1 2 3 4 5 6 7]\n",
      "(7,)\n",
      "[1 2 3]\n",
      "(3,)\n",
      "[[1 2 3 0]\n",
      " [0 0 0 0]]\n",
      "(2, 4)\n",
      "[[1 2 3]\n",
      " [0 0 0]\n",
      " [0 0 0]]\n",
      "(3, 3)\n"
     ]
    }
   ],
   "source": [
    "## resize of array its modifies shape amd array itself\n",
    "a1=np.array([1,2,3,4,5,6,7])\n",
    "print(a1)\n",
    "print(a1.shape)\n",
    "a1.resize(3)\n",
    "print(a1)\n",
    "print(a1.shape)\n",
    "a1.resize(2,4)\n",
    "print(a1)\n",
    "print(a1.shape)\n",
    "a1.resize(3,3)\n",
    "print(a1)\n",
    "print(a1.shape)"
   ]
  },
  {
   "cell_type": "code",
   "execution_count": 49,
   "id": "b4570ded",
   "metadata": {},
   "outputs": [
    {
     "name": "stdout",
     "output_type": "stream",
     "text": [
      "float64\n",
      "int64\n",
      "[0. 0. 0.]\n",
      "[[0 0 0 0]\n",
      " [0 0 0 0]]\n"
     ]
    }
   ],
   "source": [
    "# zero array\n",
    "import numpy as np\n",
    "a1=np.zeros(3)\n",
    "a2=np.zeros((2,4),dtype=\"int64\")\n",
    "print(a1.dtype)\n",
    "print(a2.dtype)\n",
    "print(a1)\n",
    "print(a2)"
   ]
  },
  {
   "cell_type": "code",
   "execution_count": 51,
   "id": "c7b85a01",
   "metadata": {},
   "outputs": [
    {
     "name": "stdout",
     "output_type": "stream",
     "text": [
      "[1 1 1]\n"
     ]
    },
    {
     "data": {
      "text/plain": [
       "array([[1, 1, 1, 1, 1],\n",
       "       [1, 1, 1, 1, 1],\n",
       "       [1, 1, 1, 1, 1],\n",
       "       [1, 1, 1, 1, 1],\n",
       "       [1, 1, 1, 1, 1],\n",
       "       [1, 1, 1, 1, 1]], dtype=int64)"
      ]
     },
     "execution_count": 51,
     "metadata": {},
     "output_type": "execute_result"
    }
   ],
   "source": [
    "# one array\n",
    "a2=np.ones(3,dtype=\"int64\")\n",
    "print(a2)\n",
    "np.ones((6,5),dtype=\"int64\")"
   ]
  },
  {
   "cell_type": "code",
   "execution_count": 102,
   "id": "a4a656e9",
   "metadata": {},
   "outputs": [
    {
     "data": {
      "text/plain": [
       "array([[7, 7, 7],\n",
       "       [7, 7, 7],\n",
       "       [7, 7, 7]])"
      ]
     },
     "execution_count": 102,
     "metadata": {},
     "output_type": "execute_result"
    }
   ],
   "source": [
    "# full array full\n",
    "a=np.full((3,3),7)\n",
    "a"
   ]
  },
  {
   "cell_type": "code",
   "execution_count": 54,
   "id": "ed24d6d3",
   "metadata": {},
   "outputs": [
    {
     "data": {
      "text/plain": [
       "array([7, 7, 7])"
      ]
     },
     "execution_count": 54,
     "metadata": {},
     "output_type": "execute_result"
    }
   ],
   "source": [
    "np.diag(a)"
   ]
  },
  {
   "cell_type": "code",
   "execution_count": 55,
   "id": "35b99309",
   "metadata": {},
   "outputs": [
    {
     "data": {
      "text/plain": [
       "array([100, 100, 100])"
      ]
     },
     "execution_count": 55,
     "metadata": {},
     "output_type": "execute_result"
    }
   ],
   "source": [
    "np.full(3,100)"
   ]
  },
  {
   "cell_type": "code",
   "execution_count": 57,
   "id": "56d0c6b6",
   "metadata": {},
   "outputs": [
    {
     "data": {
      "text/plain": [
       "array([[100, 100, 100, 100, 100, 100, 100, 100, 100],\n",
       "       [100, 100, 100, 100, 100, 100, 100, 100, 100],\n",
       "       [100, 100, 100, 100, 100, 100, 100, 100, 100]])"
      ]
     },
     "execution_count": 57,
     "metadata": {},
     "output_type": "execute_result"
    }
   ],
   "source": [
    "np.full((3,9),100)"
   ]
  },
  {
   "cell_type": "code",
   "execution_count": 60,
   "id": "9a2e137b",
   "metadata": {},
   "outputs": [
    {
     "data": {
      "text/plain": [
       "array([[1., 0., 0., 0., 0.],\n",
       "       [0., 1., 0., 0., 0.],\n",
       "       [0., 0., 1., 0., 0.],\n",
       "       [0., 0., 0., 1., 0.],\n",
       "       [0., 0., 0., 0., 1.]])"
      ]
     },
     "execution_count": 60,
     "metadata": {},
     "output_type": "execute_result"
    }
   ],
   "source": [
    "# eye array\n",
    "n=np.eye(5)\n",
    "n"
   ]
  },
  {
   "cell_type": "code",
   "execution_count": 61,
   "id": "0a672462",
   "metadata": {},
   "outputs": [
    {
     "data": {
      "text/plain": [
       "array([1., 1., 1., 1., 1.])"
      ]
     },
     "execution_count": 61,
     "metadata": {},
     "output_type": "execute_result"
    }
   ],
   "source": [
    "np.diag(n)"
   ]
  },
  {
   "cell_type": "code",
   "execution_count": 66,
   "id": "2b07f08f",
   "metadata": {},
   "outputs": [
    {
     "data": {
      "text/plain": [
       "9"
      ]
     },
     "execution_count": 66,
     "metadata": {},
     "output_type": "execute_result"
    }
   ],
   "source": [
    "r=np.random.randint(1,10)\n",
    "r"
   ]
  },
  {
   "cell_type": "code",
   "execution_count": 68,
   "id": "538c4255",
   "metadata": {},
   "outputs": [
    {
     "data": {
      "text/plain": [
       "array([[ 6, 14,  1, 15],\n",
       "       [ 9,  1, 13,  7],\n",
       "       [ 8, 11,  3,  6]])"
      ]
     },
     "execution_count": 68,
     "metadata": {},
     "output_type": "execute_result"
    }
   ],
   "source": [
    "t=np.random.randint(1,16,12).reshape(3,4)\n",
    "t"
   ]
  },
  {
   "cell_type": "code",
   "execution_count": 70,
   "id": "3a00c19d",
   "metadata": {},
   "outputs": [
    {
     "data": {
      "text/plain": [
       "array([[0.03878688, 0.32536455, 0.5391722 ],\n",
       "       [0.56257729, 0.4039344 , 0.54379603]])"
      ]
     },
     "execution_count": 70,
     "metadata": {},
     "output_type": "execute_result"
    }
   ],
   "source": [
    "q=np.random.random((6)).reshape(2,3)\n",
    "q"
   ]
  },
  {
   "cell_type": "code",
   "execution_count": 75,
   "id": "f428ecc5",
   "metadata": {},
   "outputs": [
    {
     "data": {
      "text/plain": [
       "array([[1, 2, 6],\n",
       "       [6, 7, 5],\n",
       "       [8, 1, 5],\n",
       "       [8, 8, 2],\n",
       "       [4, 4, 9]])"
      ]
     },
     "execution_count": 75,
     "metadata": {},
     "output_type": "execute_result"
    }
   ],
   "source": [
    "r=np.random.randint(1,10,(5,3))\n",
    "r"
   ]
  },
  {
   "cell_type": "code",
   "execution_count": 79,
   "id": "587a0934",
   "metadata": {},
   "outputs": [
    {
     "data": {
      "text/plain": [
       "array([[6, 7, 5],\n",
       "       [8, 1, 5],\n",
       "       [8, 8, 2],\n",
       "       [4, 4, 9]])"
      ]
     },
     "execution_count": 79,
     "metadata": {},
     "output_type": "execute_result"
    }
   ],
   "source": [
    "r[1:5]"
   ]
  },
  {
   "cell_type": "code",
   "execution_count": 78,
   "id": "7065ab46",
   "metadata": {},
   "outputs": [
    {
     "data": {
      "text/plain": [
       "array([[8, 1],\n",
       "       [8, 8],\n",
       "       [4, 4]])"
      ]
     },
     "execution_count": 78,
     "metadata": {},
     "output_type": "execute_result"
    }
   ],
   "source": [
    "r[2:,:2]"
   ]
  },
  {
   "cell_type": "code",
   "execution_count": null,
   "id": "9f2c9ee8",
   "metadata": {},
   "outputs": [],
   "source": []
  },
  {
   "cell_type": "code",
   "execution_count": 88,
   "id": "b1751d4a",
   "metadata": {},
   "outputs": [
    {
     "data": {
      "text/plain": [
       "0"
      ]
     },
     "execution_count": 88,
     "metadata": {},
     "output_type": "execute_result"
    }
   ],
   "source": [
    "r[r>10].sum()"
   ]
  },
  {
   "cell_type": "code",
   "execution_count": 83,
   "id": "fff1215e",
   "metadata": {},
   "outputs": [
    {
     "data": {
      "text/plain": [
       "9"
      ]
     },
     "execution_count": 83,
     "metadata": {},
     "output_type": "execute_result"
    }
   ],
   "source": [
    "r.max()"
   ]
  },
  {
   "cell_type": "code",
   "execution_count": 82,
   "id": "236eb4f2",
   "metadata": {},
   "outputs": [
    {
     "data": {
      "text/plain": [
       "1"
      ]
     },
     "execution_count": 82,
     "metadata": {},
     "output_type": "execute_result"
    }
   ],
   "source": [
    "r.min()"
   ]
  },
  {
   "cell_type": "code",
   "execution_count": 85,
   "id": "12e9dd8e",
   "metadata": {},
   "outputs": [
    {
     "data": {
      "text/plain": [
       "array([[0, 1, 2],\n",
       "       [3, 4, 5],\n",
       "       [6, 7, 8]])"
      ]
     },
     "execution_count": 85,
     "metadata": {},
     "output_type": "execute_result"
    }
   ],
   "source": [
    "a=np.arange(9).reshape(3,3)\n",
    "a"
   ]
  },
  {
   "cell_type": "code",
   "execution_count": 90,
   "id": "0eb00318",
   "metadata": {},
   "outputs": [
    {
     "name": "stdout",
     "output_type": "stream",
     "text": [
      "[[ 2  3  4]\n",
      " [ 5  6  7]\n",
      " [ 8  9 10]]\n",
      "***********\n",
      "[[-2 -1  0]\n",
      " [ 1  2  3]\n",
      " [ 4  5  6]]\n",
      "----------\n",
      "[[ 0  2  4]\n",
      " [ 6  8 10]\n",
      " [12 14 16]]\n",
      "$$$$$$$$\n",
      "[[0 1 0]\n",
      " [1 0 1]\n",
      " [0 1 0]]\n",
      "8\n",
      "2\n"
     ]
    }
   ],
   "source": [
    "print(a+b)\n",
    "print(\"***********\")\n",
    "print(a-b)\n",
    "print(\"----------\")\n",
    "print(a*b)\n",
    "print(\"$$$$$$$$\")\n",
    "print(a%b)\n",
    "print(np.max(a))\n",
    "print(np.min(b))"
   ]
  },
  {
   "cell_type": "code",
   "execution_count": 92,
   "id": "f120554c",
   "metadata": {},
   "outputs": [
    {
     "data": {
      "text/plain": [
       "array([[ 0,  1,  2],\n",
       "       [ 3,  4,  5],\n",
       "       [ 6,  7,  8],\n",
       "       [ 9, 10, 11],\n",
       "       [12, 13, 14]])"
      ]
     },
     "execution_count": 92,
     "metadata": {},
     "output_type": "execute_result"
    }
   ],
   "source": [
    "# 0-15--->(3,5)\n",
    "a=np.arange(15).reshape(5,3)\n",
    "a"
   ]
  },
  {
   "cell_type": "code",
   "execution_count": 93,
   "id": "e4b1159a",
   "metadata": {},
   "outputs": [
    {
     "name": "stdout",
     "output_type": "stream",
     "text": [
      "7.0\n"
     ]
    }
   ],
   "source": [
    "print(np.mean(a))"
   ]
  },
  {
   "cell_type": "code",
   "execution_count": 94,
   "id": "51d7d72e",
   "metadata": {},
   "outputs": [
    {
     "name": "stdout",
     "output_type": "stream",
     "text": [
      "7.0\n"
     ]
    }
   ],
   "source": [
    "print(np.median(a))"
   ]
  },
  {
   "cell_type": "code",
   "execution_count": 103,
   "id": "1ca4fdb6",
   "metadata": {},
   "outputs": [
    {
     "data": {
      "text/plain": [
       "array([[ 6.32326538,  6.32326538,  6.32326538],\n",
       "       [10.57215404, 10.57215404, 10.57215404]])"
      ]
     },
     "execution_count": 103,
     "metadata": {},
     "output_type": "execute_result"
    }
   ],
   "source": [
    "q.dot(a)"
   ]
  },
  {
   "cell_type": "code",
   "execution_count": 96,
   "id": "30b38d0a",
   "metadata": {},
   "outputs": [
    {
     "data": {
      "text/plain": [
       "array([[ 0,  1,  2],\n",
       "       [ 3,  4,  5],\n",
       "       [ 6,  7,  8],\n",
       "       [ 9, 10, 11],\n",
       "       [12, 13, 14]])"
      ]
     },
     "execution_count": 96,
     "metadata": {},
     "output_type": "execute_result"
    }
   ],
   "source": [
    "a"
   ]
  },
  {
   "cell_type": "code",
   "execution_count": 97,
   "id": "642a62cd",
   "metadata": {},
   "outputs": [
    {
     "data": {
      "text/plain": [
       "array([[ 3,  4,  5],\n",
       "       [ 6,  7,  8],\n",
       "       [ 9, 10, 11],\n",
       "       [12, 13, 14],\n",
       "       [15, 16, 17]])"
      ]
     },
     "execution_count": 97,
     "metadata": {},
     "output_type": "execute_result"
    }
   ],
   "source": [
    "a+3"
   ]
  },
  {
   "cell_type": "code",
   "execution_count": 98,
   "id": "4ae28104",
   "metadata": {},
   "outputs": [
    {
     "data": {
      "text/plain": [
       "array([[10, 11, 12],\n",
       "       [13, 14, 15],\n",
       "       [16, 17, 18],\n",
       "       [19, 20, 21],\n",
       "       [22, 23, 24]])"
      ]
     },
     "execution_count": 98,
     "metadata": {},
     "output_type": "execute_result"
    }
   ],
   "source": [
    "a+10"
   ]
  },
  {
   "cell_type": "code",
   "execution_count": 99,
   "id": "69ae5145",
   "metadata": {},
   "outputs": [
    {
     "data": {
      "text/plain": [
       "array([0.        , 0.69314718, 1.09861229])"
      ]
     },
     "execution_count": 99,
     "metadata": {},
     "output_type": "execute_result"
    }
   ],
   "source": [
    "np.log([1,2,3])"
   ]
  },
  {
   "cell_type": "code",
   "execution_count": 104,
   "id": "0be8ba68",
   "metadata": {},
   "outputs": [
    {
     "data": {
      "text/plain": [
       "54.598150033144236"
      ]
     },
     "execution_count": 104,
     "metadata": {},
     "output_type": "execute_result"
    }
   ],
   "source": [
    "np.exp(4)"
   ]
  },
  {
   "cell_type": "code",
   "execution_count": 105,
   "id": "6552648f",
   "metadata": {},
   "outputs": [
    {
     "data": {
      "text/plain": [
       "-0.9880316240928618"
      ]
     },
     "execution_count": 105,
     "metadata": {},
     "output_type": "execute_result"
    }
   ],
   "source": [
    "np.sin(30)"
   ]
  },
  {
   "cell_type": "code",
   "execution_count": 106,
   "id": "02f4f316",
   "metadata": {},
   "outputs": [
    {
     "data": {
      "text/plain": [
       "0.15425144988758405"
      ]
     },
     "execution_count": 106,
     "metadata": {},
     "output_type": "execute_result"
    }
   ],
   "source": [
    "np.cos(30)"
   ]
  },
  {
   "cell_type": "code",
   "execution_count": 107,
   "id": "1220cfce",
   "metadata": {},
   "outputs": [
    {
     "data": {
      "text/plain": [
       "-6.405331196646276"
      ]
     },
     "execution_count": 107,
     "metadata": {},
     "output_type": "execute_result"
    }
   ],
   "source": [
    "np.tan(30)"
   ]
  },
  {
   "cell_type": "markdown",
   "id": "9710ce8f",
   "metadata": {},
   "source": [
    "import numpy\n",
    "dir(numpy)"
   ]
  },
  {
   "cell_type": "markdown",
   "id": "ad38ce8e",
   "metadata": {},
   "source": [
    "## pandas\n",
    "- pandas is the data science package \n",
    "- it is used for \n",
    "     - data manupulation(modifications and updation)\n",
    "     - data analysis\n",
    "     - data cleaning- to remove unnecessary data from data science\n",
    "- contains mainly 2 data structures in pandas\n",
    "    - series- sequence of data\n",
    "    - data frames- data with row and column\n"
   ]
  },
  {
   "cell_type": "code",
   "execution_count": null,
   "id": "47e46207",
   "metadata": {},
   "outputs": [],
   "source": []
  }
 ],
 "metadata": {
  "kernelspec": {
   "display_name": "Python 3 (ipykernel)",
   "language": "python",
   "name": "python3"
  },
  "language_info": {
   "codemirror_mode": {
    "name": "ipython",
    "version": 3
   },
   "file_extension": ".py",
   "mimetype": "text/x-python",
   "name": "python",
   "nbconvert_exporter": "python",
   "pygments_lexer": "ipython3",
   "version": "3.9.7"
  }
 },
 "nbformat": 4,
 "nbformat_minor": 5
}
