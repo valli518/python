{
 "cells": [
  {
   "cell_type": "markdown",
   "id": "a4d0d48e",
   "metadata": {},
   "source": [
    "### file handling\n",
    "- file is a named location or memory used to store relative information\n",
    "- .html,.csv,.py,.txt,.ipynb,.mp4\n",
    "- file handling it allows user to handle files\n",
    "- compared to other languages programmming in files handling is easy\n",
    "- read and write files along with the other files handling options to work on the files\n",
    "\n",
    "\n",
    "- steps of handling\n",
    "    - open file\n",
    "    - doing operations\n",
    "    - close a file\n",
    "    \n",
    "- open function()\n",
    "    - we can open fun()in python to open the files in read&write options\n",
    "    - to return a object we use in open function() along with 2 arguments that and mode whether read or write\n",
    "    - syntax:: open(filename.mode)\n",
    "    \n",
    "    - modes are 3 types to open a file\n",
    "        - read()--'r'--->to read a file\n",
    "            - file_variable.read(size)  \n",
    "        - write()--'w'--->to write a file\n",
    "            - file_variable.write(data)\n",
    "    - append()--'a'-- to add a information to a file\n",
    "        - file_variable.append(data)\n",
    "        \n",
    "    - by default the file will open as 'r' mode\n",
    "    - close()\n",
    "        - it is used to close a file\n",
    "        - every time you have to close a file at the end of the operation otherwise the changes will not be applicable\n",
    "        "
   ]
  },
  {
   "cell_type": "code",
   "execution_count": 1,
   "id": "a2146c01",
   "metadata": {},
   "outputs": [
    {
     "name": "stdout",
     "output_type": "stream",
     "text": [
      "successfully opened\n"
     ]
    }
   ],
   "source": [
    "f=open(\"data.txt\",'r')\n",
    "if f:\n",
    "    print(\"successfully opened\")\n",
    "else:\n",
    "    print(\"failed\")"
   ]
  },
  {
   "cell_type": "code",
   "execution_count": 3,
   "id": "f04291bd",
   "metadata": {},
   "outputs": [
    {
     "name": "stdout",
     "output_type": "stream",
     "text": [
      "good morning,welcome to class oriented class\n"
     ]
    }
   ],
   "source": [
    "# read\n",
    "f=open(\"data.txt\",'r')\n",
    "print(f.read())\n",
    "f.close()"
   ]
  },
  {
   "cell_type": "code",
   "execution_count": 5,
   "id": "2129914f",
   "metadata": {},
   "outputs": [
    {
     "name": "stdout",
     "output_type": "stream",
     "text": [
      "good morning,welcome to class oriented class\n"
     ]
    }
   ],
   "source": [
    "# using with keyword automaticallly file will be closed\n",
    "with open(\"data.txt\")as f:\n",
    "    f1=f.read()\n",
    "    print(f1)\n",
    "    "
   ]
  },
  {
   "cell_type": "code",
   "execution_count": 6,
   "id": "974b3714",
   "metadata": {},
   "outputs": [
    {
     "name": "stdout",
     "output_type": "stream",
     "text": [
      "good m\n"
     ]
    }
   ],
   "source": [
    "with open(\"data.txt\")as f:\n",
    "    f1=f.read(6)\n",
    "    print(f1)\n",
    "    "
   ]
  },
  {
   "cell_type": "code",
   "execution_count": 7,
   "id": "638cd8d2",
   "metadata": {},
   "outputs": [
    {
     "name": "stdout",
     "output_type": "stream",
     "text": [
      "7\n"
     ]
    }
   ],
   "source": [
    "f=open(\"data1.txt\",'w')\n",
    "f1=f.write(\"python \")\n",
    "print(f1)\n",
    "f.close()"
   ]
  },
  {
   "cell_type": "markdown",
   "id": "e495f2d3",
   "metadata": {},
   "source": [
    "### file handling methods\n",
    "- open()\n",
    "- read()\n",
    "- write()\n",
    "- close()\n",
    "- readline()\n",
    "- readlines()\n",
    "- seek()\n",
    "- tell()\n",
    "- types of modes\n",
    "        - read()--'r'\n",
    "        - write()--'w'\n",
    "        - append()--'a'"
   ]
  },
  {
   "cell_type": "code",
   "execution_count": 8,
   "id": "35b7d552",
   "metadata": {},
   "outputs": [],
   "source": [
    "f=open(\"data.txt\")"
   ]
  },
  {
   "cell_type": "code",
   "execution_count": 9,
   "id": "f39d026e",
   "metadata": {},
   "outputs": [
    {
     "name": "stdout",
     "output_type": "stream",
     "text": [
      "good morning,wel\n"
     ]
    }
   ],
   "source": [
    "info=f.read(16)\n",
    "print(info)"
   ]
  },
  {
   "cell_type": "code",
   "execution_count": 13,
   "id": "15d0c7f7",
   "metadata": {},
   "outputs": [
    {
     "name": "stdout",
     "output_type": "stream",
     "text": [
      "\n"
     ]
    }
   ],
   "source": [
    "d=f.read()\n",
    "print(d)"
   ]
  },
  {
   "cell_type": "code",
   "execution_count": 16,
   "id": "ab722163",
   "metadata": {},
   "outputs": [],
   "source": [
    "f.close()"
   ]
  },
  {
   "cell_type": "code",
   "execution_count": null,
   "id": "33245cb9",
   "metadata": {},
   "outputs": [],
   "source": [
    "# write mode()\n",
    "# it is used to write something in the file\n",
    "# if file is not directory,the file will be created and data will be written in that file"
   ]
  },
  {
   "cell_type": "code",
   "execution_count": 19,
   "id": "e694aeff",
   "metadata": {},
   "outputs": [
    {
     "data": {
      "text/plain": [
       "3"
      ]
     },
     "execution_count": 19,
     "metadata": {},
     "output_type": "execute_result"
    }
   ],
   "source": [
    "a=open(\"data.txt\",'w')\n",
    "a.write(\"bye\")"
   ]
  },
  {
   "cell_type": "code",
   "execution_count": 20,
   "id": "9ee65a6d",
   "metadata": {},
   "outputs": [
    {
     "name": "stdout",
     "output_type": "stream",
     "text": [
      "<_io.TextIOWrapper name='data.txt' mode='w' encoding='cp1252'>\n"
     ]
    }
   ],
   "source": [
    "d=open(\"data.txt\",'a')\n",
    "d.write(\"gfvyfdguihfdghiujgi\")\n",
    "print(a)"
   ]
  },
  {
   "cell_type": "code",
   "execution_count": 22,
   "id": "2bef843b",
   "metadata": {},
   "outputs": [
    {
     "name": "stdout",
     "output_type": "stream",
     "text": [
      "gfvyfdguihfdghiujgi\n"
     ]
    }
   ],
   "source": [
    "d=open(\"data.txt\",'r')\n",
    "f=d.readline()\n",
    "print(f)"
   ]
  },
  {
   "cell_type": "code",
   "execution_count": 23,
   "id": "e55e4534",
   "metadata": {},
   "outputs": [
    {
     "name": "stdout",
     "output_type": "stream",
     "text": [
      "number of lines in the files: 1\n"
     ]
    }
   ],
   "source": [
    "with open(\"data.txt\",'r') as f:\n",
    "    no_of_lines=f.readlines()\n",
    "    print(\"number of lines in the files:\",len(no_of_lines))"
   ]
  },
  {
   "cell_type": "code",
   "execution_count": 24,
   "id": "cc9bb189",
   "metadata": {},
   "outputs": [
    {
     "name": "stdout",
     "output_type": "stream",
     "text": [
      "number of lines in the files: 19\n"
     ]
    }
   ],
   "source": [
    "with open(\"data.txt\",'r') as f:\n",
    "    no_of_lines=f.readline()\n",
    "    print(\"number of lines in the files:\",len(no_of_lines))"
   ]
  },
  {
   "cell_type": "code",
   "execution_count": 26,
   "id": "ea9aec62",
   "metadata": {},
   "outputs": [
    {
     "name": "stdout",
     "output_type": "stream",
     "text": [
      " no of words are: 19\n"
     ]
    }
   ],
   "source": [
    "# no of words in the given file\n",
    "w=0\n",
    "for line in no_of_lines:\n",
    "    words_list=line.split()\n",
    "    w+=len(words_list)\n",
    "print(\" no of words are:\",w)"
   ]
  },
  {
   "cell_type": "markdown",
   "id": "7b65c08d",
   "metadata": {},
   "source": [
    "### function:-\n",
    "- bulitin function\n",
    "    - already existed\n",
    "    - ex:print(),input(),len(),int()\n",
    "- user defined functions\n",
    "    - which are defined by the user\n",
    "    - ex:any user can create the functions"
   ]
  },
  {
   "cell_type": "code",
   "execution_count": null,
   "id": "4609c387",
   "metadata": {},
   "outputs": [],
   "source": [
    "def function_name(arguments):\n",
    "    statements\n",
    "    statements\n",
    "function_name(parameter)# function calling"
   ]
  },
  {
   "cell_type": "code",
   "execution_count": 2,
   "id": "af51c426",
   "metadata": {},
   "outputs": [
    {
     "name": "stdout",
     "output_type": "stream",
     "text": [
      "56\n",
      "even\n"
     ]
    }
   ],
   "source": [
    "# even or odd\n",
    "n=int(input())\n",
    "if n%2==0:\n",
    "    print(\"even\")\n",
    "else:\n",
    "    print(\"odd\")\n"
   ]
  },
  {
   "cell_type": "code",
   "execution_count": 6,
   "id": "613e7798",
   "metadata": {},
   "outputs": [
    {
     "name": "stdout",
     "output_type": "stream",
     "text": [
      "odd\n"
     ]
    }
   ],
   "source": [
    "def even_odd(n):\n",
    "    if n%2==0:\n",
    "        print(\"even\")\n",
    "    else:\n",
    "        print(\"odd\")\n",
    "even_odd(45)"
   ]
  },
  {
   "cell_type": "code",
   "execution_count": 13,
   "id": "fba47f99",
   "metadata": {},
   "outputs": [
    {
     "name": "stdout",
     "output_type": "stream",
     "text": [
      "not a prime\n"
     ]
    }
   ],
   "source": [
    "def prime_check(n):\n",
    "    count=0\n",
    "    for i in range(1,n+1):\n",
    "        if n%i==0:\n",
    "            count=count+1\n",
    "    if count==2:\n",
    "        print(\"prime\")\n",
    "    else:\n",
    "        print(\"not a prime\")\n",
    "prime_check(6)\n",
    "\n",
    "        \n",
    "        \n",
    "    \n",
    "    "
   ]
  },
  {
   "cell_type": "code",
   "execution_count": 14,
   "id": "f02dea71",
   "metadata": {},
   "outputs": [
    {
     "data": {
      "text/plain": [
       "True"
      ]
     },
     "execution_count": 14,
     "metadata": {},
     "output_type": "execute_result"
    }
   ],
   "source": [
    "def is_prime(n):\n",
    "    for i in range(2,n+1):\n",
    "        if n%i==0:\n",
    "            return False\n",
    "        return True\n",
    "is_prime(3)\n",
    "        \n",
    "    \n"
   ]
  },
  {
   "cell_type": "code",
   "execution_count": 19,
   "id": "30bc5f43",
   "metadata": {},
   "outputs": [
    {
     "name": "stdout",
     "output_type": "stream",
     "text": [
      "sum of the factors: 6\n",
      "perfect\n"
     ]
    }
   ],
   "source": [
    "# prefect number given number is equal to the sum of\n",
    "# 6--->1+2+3=6\n",
    "def perfect_num(a):\n",
    "    fact_sum=0\n",
    "    for i in range(1,a):\n",
    "        if a%i==0:\n",
    "            fact_sum=fact_sum+i\n",
    "    print(\"sum of the factors:\",fact_sum)\n",
    "    if a==fact_sum:\n",
    "        print(\"perfect\")\n",
    "    else:\n",
    "         print(\"not perfect\")\n",
    "perfect_num(6)\n",
    "        \n",
    "    "
   ]
  },
  {
   "cell_type": "markdown",
   "id": "acb5f69a",
   "metadata": {},
   "source": [
    "- comprihension\n",
    "- iterations and generators\n",
    "- functional program\n",
    "\n",
    "### comprihension\n",
    "- it is a program af creating new sequence from existing sequence\n",
    "- advantage::less code,easy to understand\n",
    "- types:\n",
    "    - list comprihensions\n",
    "    - dictionary comprihension\n",
    "    - set comprihension\n",
    "    - generator comprihension\n",
    "- list comprihension\n",
    "    - easy way to create,more efficicent and also run faster\n",
    "    - syntax::[expression for item in list if condition]"
   ]
  },
  {
   "cell_type": "code",
   "execution_count": 20,
   "id": "1d66eea8",
   "metadata": {},
   "outputs": [
    {
     "ename": "TypeError",
     "evalue": "'type' object is not iterable",
     "output_type": "error",
     "traceback": [
      "\u001b[1;31m---------------------------------------------------------------------------\u001b[0m",
      "\u001b[1;31mTypeError\u001b[0m                                 Traceback (most recent call last)",
      "\u001b[1;32m~\\AppData\\Local\\Temp/ipykernel_1600/1467688975.py\u001b[0m in \u001b[0;36m<module>\u001b[1;34m\u001b[0m\n\u001b[0;32m      1\u001b[0m \u001b[1;31m# normal list syntax::\u001b[0m\u001b[1;33m\u001b[0m\u001b[1;33m\u001b[0m\u001b[0m\n\u001b[1;32m----> 2\u001b[1;33m \u001b[1;32mfor\u001b[0m \u001b[0mitem\u001b[0m \u001b[1;32min\u001b[0m \u001b[0mlist\u001b[0m\u001b[1;33m:\u001b[0m\u001b[1;33m\u001b[0m\u001b[1;33m\u001b[0m\u001b[0m\n\u001b[0m\u001b[0;32m      3\u001b[0m     \u001b[1;32mif\u001b[0m \u001b[0mcondition\u001b[0m\u001b[1;33m:\u001b[0m\u001b[1;33m\u001b[0m\u001b[1;33m\u001b[0m\u001b[0m\n\u001b[0;32m      4\u001b[0m         \u001b[0mprint\u001b[0m\u001b[1;33m(\u001b[0m\u001b[1;34m\"\"\u001b[0m\u001b[1;33m)\u001b[0m\u001b[1;33m\u001b[0m\u001b[1;33m\u001b[0m\u001b[0m\n",
      "\u001b[1;31mTypeError\u001b[0m: 'type' object is not iterable"
     ]
    }
   ],
   "source": []
  },
  {
   "cell_type": "code",
   "execution_count": null,
   "id": "859c781d",
   "metadata": {},
   "outputs": [],
   "source": [
    "# normal list syntax::\n",
    "for item in list:\n",
    "    if condition:\n",
    "        print(\"\")"
   ]
  },
  {
   "cell_type": "code",
   "execution_count": 21,
   "id": "88157fbe",
   "metadata": {},
   "outputs": [
    {
     "name": "stdout",
     "output_type": "stream",
     "text": [
      "[1, 2, 3, 4, 5, 6, 7, 8, 9, 10]\n"
     ]
    }
   ],
   "source": [
    "li=[]\n",
    "for i in range(1,11):\n",
    "    li.append(i)\n",
    "print(li)"
   ]
  },
  {
   "cell_type": "code",
   "execution_count": 22,
   "id": "e29090f1",
   "metadata": {},
   "outputs": [
    {
     "name": "stdout",
     "output_type": "stream",
     "text": [
      "[1, 2, 3, 4, 5, 6, 7, 8]\n"
     ]
    }
   ],
   "source": [
    "li=[i for i in range(1,9)]\n",
    "print(li)"
   ]
  },
  {
   "cell_type": "code",
   "execution_count": 23,
   "id": "eeaa7306",
   "metadata": {},
   "outputs": [
    {
     "name": "stdout",
     "output_type": "stream",
     "text": [
      "[5, 10, 15, 20, 25, 30, 35, 40]\n"
     ]
    }
   ],
   "source": [
    "li=[i*5 for i in range(1,9)]\n",
    "print(li)"
   ]
  },
  {
   "cell_type": "code",
   "execution_count": 24,
   "id": "52d17d6c",
   "metadata": {},
   "outputs": [
    {
     "name": "stdout",
     "output_type": "stream",
     "text": [
      "[2, 4, 6, 8]\n"
     ]
    }
   ],
   "source": [
    "li=[i for i in range(1,9) if(i%2==0)]\n",
    "print(li)"
   ]
  },
  {
   "cell_type": "code",
   "execution_count": 29,
   "id": "54d85af2",
   "metadata": {},
   "outputs": [
    {
     "name": "stdout",
     "output_type": "stream",
     "text": [
      "['odd', 2, 'odd', 4, 'odd', 6, 'odd', 8, 'odd', 10]\n"
     ]
    }
   ],
   "source": [
    "li=[i if (i%2==0) else \"odd\" for i in range(1,11)]\n",
    "print(li)"
   ]
  },
  {
   "cell_type": "code",
   "execution_count": 30,
   "id": "70ec3129",
   "metadata": {},
   "outputs": [
    {
     "name": "stdout",
     "output_type": "stream",
     "text": [
      "['even', 2, 'even', 4, 'even', 6, 'even', 8, 'even', 10]\n"
     ]
    }
   ],
   "source": [
    "li=[i if (i%2==0) else \"even\" for i in range(1,11)]\n",
    "print(li)"
   ]
  },
  {
   "cell_type": "code",
   "execution_count": 33,
   "id": "735fc7d2",
   "metadata": {},
   "outputs": [
    {
     "name": "stdout",
     "output_type": "stream",
     "text": [
      "[(1, 'odd'), (2, 'even'), (3, 'odd'), (4, 'even'), (5, 'odd'), (6, 'even'), (7, 'odd'), (8, 'even'), (9, 'odd'), (10, 'even')]\n"
     ]
    }
   ],
   "source": [
    "print([(i,\"even\") if i%2==0 else (i,\"odd\") for i in range(1,11)])"
   ]
  },
  {
   "cell_type": "code",
   "execution_count": 34,
   "id": "1c0470d9",
   "metadata": {},
   "outputs": [
    {
     "name": "stdout",
     "output_type": "stream",
     "text": [
      "['stay', 'home', 'stay', 'safe']\n"
     ]
    }
   ],
   "source": [
    "a=['stay home','stay safe']\n",
    "li=[]\n",
    "for i in a:\n",
    "    for j in i.split():\n",
    "        li.append(j)\n",
    "print(li)\n",
    "    "
   ]
  },
  {
   "cell_type": "code",
   "execution_count": 35,
   "id": "cc616bf1",
   "metadata": {},
   "outputs": [
    {
     "name": "stdout",
     "output_type": "stream",
     "text": [
      "['stay', 'home', 'stay', 'safe']\n"
     ]
    }
   ],
   "source": [
    "f=[j for i in a for j in i.split()]\n",
    "print(f)"
   ]
  },
  {
   "cell_type": "code",
   "execution_count": 38,
   "id": "23ffddba",
   "metadata": {},
   "outputs": [
    {
     "data": {
      "text/plain": [
       "[[1, 2, 3, 4, 5, 6, 7, 8, 9, 10],\n",
       " [2, 4, 6, 8, 10, 12, 14, 16, 18, 20],\n",
       " [3, 6, 9, 12, 15, 18, 21, 24, 27, 30],\n",
       " [4, 8, 12, 16, 20, 24, 28, 32, 36, 40],\n",
       " [5, 10, 15, 20, 25, 30, 35, 40, 45, 50],\n",
       " [6, 12, 18, 24, 30, 36, 42, 48, 54, 60],\n",
       " [7, 14, 21, 28, 35, 42, 49, 56, 63, 70],\n",
       " [8, 16, 24, 32, 40, 48, 56, 64, 72, 80],\n",
       " [9, 18, 27, 36, 45, 54, 63, 72, 81, 90],\n",
       " [10, 20, 30, 40, 50, 60, 70, 80, 90, 100]]"
      ]
     },
     "execution_count": 38,
     "metadata": {},
     "output_type": "execute_result"
    }
   ],
   "source": [
    "p=[[i*j for i in range(1,11)] for j in range(1,11)]\n",
    "p"
   ]
  },
  {
   "cell_type": "code",
   "execution_count": 40,
   "id": "7cf13853",
   "metadata": {},
   "outputs": [
    {
     "name": "stdout",
     "output_type": "stream",
     "text": [
      "{'n14334': 'books', 'n4664': 'mask', '87868': 'phone'}\n"
     ]
    }
   ],
   "source": [
    "# dictionary comprehensions\n",
    "id_no=['n14334','n4664','87868',]\n",
    "names=['books','mask','phone']\n",
    "s={}\n",
    "for (key,values) in zip(id_no,names):\n",
    "    s[key]=values\n",
    "print(s)"
   ]
  },
  {
   "cell_type": "code",
   "execution_count": 41,
   "id": "26d249fd",
   "metadata": {},
   "outputs": [
    {
     "data": {
      "text/plain": [
       "{1: 2, 2: 4, 3: 6, 4: 8, 5: 10, 6: 12, 7: 14, 8: 16, 9: 18, 10: 20}"
      ]
     },
     "execution_count": 41,
     "metadata": {},
     "output_type": "execute_result"
    }
   ],
   "source": [
    "w={i:i*2 for i in range(1,11)}\n",
    "w"
   ]
  },
  {
   "cell_type": "code",
   "execution_count": 44,
   "id": "6b705aca",
   "metadata": {},
   "outputs": [
    {
     "data": {
      "text/plain": [
       "{'g': 1, 'f': 1, 'r': 1, 'e': 2, 'p': 1, 'q': 2}"
      ]
     },
     "execution_count": 44,
     "metadata": {},
     "output_type": "execute_result"
    }
   ],
   "source": [
    "li=['g','f','r','e','p','q','e','q']\n",
    "{i:li.count(i) for i in li}"
   ]
  },
  {
   "cell_type": "code",
   "execution_count": 7,
   "id": "473f6594",
   "metadata": {},
   "outputs": [
    {
     "data": {
      "text/plain": [
       "{0: 'A',\n",
       " 1: 'B',\n",
       " 2: 'C',\n",
       " 3: 'D',\n",
       " 4: 'E',\n",
       " 5: 'F',\n",
       " 6: 'G',\n",
       " 7: 'H',\n",
       " 8: 'I',\n",
       " 9: 'J',\n",
       " 10: 'K',\n",
       " 11: 'L',\n",
       " 12: 'M',\n",
       " 13: 'N',\n",
       " 14: 'O',\n",
       " 15: 'P',\n",
       " 16: 'Q',\n",
       " 17: 'R',\n",
       " 18: 'S',\n",
       " 19: 'T',\n",
       " 20: 'U',\n",
       " 21: 'V',\n",
       " 22: 'W',\n",
       " 23: 'X',\n",
       " 24: 'Y',\n",
       " 25: 'Z'}"
      ]
     },
     "execution_count": 7,
     "metadata": {},
     "output_type": "execute_result"
    }
   ],
   "source": [
    "#(o:A 1:B 2:C 3:D)\n",
    "d={i:chr(65+i) for i in range(26)}\n",
    "d"
   ]
  },
  {
   "cell_type": "code",
   "execution_count": 48,
   "id": "0d0dbe24",
   "metadata": {},
   "outputs": [
    {
     "data": {
      "text/plain": [
       "{'mouse': 5, 'phone': 5, 'swapna': 6}"
      ]
     },
     "execution_count": 48,
     "metadata": {},
     "output_type": "execute_result"
    }
   ],
   "source": [
    "names=['mouse','phone','swapna']\n",
    "d={i:len(i) for i in names}\n",
    "d"
   ]
  },
  {
   "cell_type": "code",
   "execution_count": 49,
   "id": "309c01ca",
   "metadata": {},
   "outputs": [
    {
     "data": {
      "text/plain": [
       "{6, 12, 18, 24, 30}"
      ]
     },
     "execution_count": 49,
     "metadata": {},
     "output_type": "execute_result"
    }
   ],
   "source": [
    "# set comprehension\n",
    "s={i*3 for i in range(1,11) if i%2==0}\n",
    "s"
   ]
  },
  {
   "cell_type": "code",
   "execution_count": 52,
   "id": "bf5e3609",
   "metadata": {},
   "outputs": [
    {
     "data": {
      "text/plain": [
       "<generator object <genexpr> at 0x00000027740A0040>"
      ]
     },
     "execution_count": 52,
     "metadata": {},
     "output_type": "execute_result"
    }
   ],
   "source": [
    "# generator comprehension\n",
    "c=(i*3 for i in range(5))\n",
    "c"
   ]
  },
  {
   "cell_type": "markdown",
   "id": "3ee56a8b",
   "metadata": {},
   "source": [
    "## iterators and generators\n",
    "- iterator :iter is object inpython it contains no elements\n",
    "- 2 methods\n",
    "    - iter\n",
    "    - next\n",
    "   - list,set,tuple,dict"
   ]
  },
  {
   "cell_type": "code",
   "execution_count": 4,
   "id": "55d72c37",
   "metadata": {},
   "outputs": [
    {
     "name": "stdout",
     "output_type": "stream",
     "text": [
      "p\n",
      "y\n",
      "t\n",
      "h\n",
      "o\n",
      "n\n"
     ]
    }
   ],
   "source": [
    "a=\"python\"\n",
    "for i in a:\n",
    "    print(i)"
   ]
  },
  {
   "cell_type": "code",
   "execution_count": 6,
   "id": "e7c683f6",
   "metadata": {},
   "outputs": [
    {
     "name": "stdout",
     "output_type": "stream",
     "text": [
      "<str_iterator object at 0x000000C9A2981100>\n",
      "p\n",
      "y\n",
      "t\n"
     ]
    }
   ],
   "source": [
    "s=iter('python')\n",
    "print(s)\n",
    "print(next(s))\n",
    "print(next(s))\n",
    "print(next(s))"
   ]
  },
  {
   "cell_type": "markdown",
   "id": "63cecb2e",
   "metadata": {},
   "source": [
    "### generator\n",
    "- generator can be used to either functions or comprehension \n",
    "- it returns a iterator or objects\n",
    "- in generator 'yield can be used in place of return\n"
   ]
  },
  {
   "cell_type": "code",
   "execution_count": 54,
   "id": "edd28f9c",
   "metadata": {},
   "outputs": [
    {
     "data": {
      "text/plain": [
       "'e'"
      ]
     },
     "execution_count": 54,
     "metadata": {},
     "output_type": "execute_result"
    }
   ],
   "source": [
    "def python():\n",
    "    return 'e'\n",
    "    print(\"place\")\n",
    "python()"
   ]
  },
  {
   "cell_type": "code",
   "execution_count": 55,
   "id": "134e5011",
   "metadata": {},
   "outputs": [
    {
     "name": "stdout",
     "output_type": "stream",
     "text": [
      "mango\n",
      "orange\n",
      "sdc\n"
     ]
    }
   ],
   "source": [
    "def python():\n",
    "    yield 'mango'\n",
    "    yield 'orange'\n",
    "    yield 'sdc'\n",
    "for ch in python():\n",
    "    print(ch)"
   ]
  },
  {
   "cell_type": "markdown",
   "id": "4096bd55",
   "metadata": {},
   "source": [
    "### lambda\n",
    "- ananymous function or single line function\n",
    "- single expressionb no.of arguments\n",
    "- syntax::lamda arguments expression"
   ]
  },
  {
   "cell_type": "code",
   "execution_count": 56,
   "id": "eb827543",
   "metadata": {},
   "outputs": [
    {
     "data": {
      "text/plain": [
       "10"
      ]
     },
     "execution_count": 56,
     "metadata": {},
     "output_type": "execute_result"
    }
   ],
   "source": [
    "def add(a,b):\n",
    "    return(a+b)\n",
    "add(5,5)\n"
   ]
  },
  {
   "cell_type": "code",
   "execution_count": 3,
   "id": "7244c6c6",
   "metadata": {},
   "outputs": [
    {
     "name": "stdout",
     "output_type": "stream",
     "text": [
      "9\n"
     ]
    }
   ],
   "source": [
    "b=lambda a,b:a+b\n",
    "print(b(4,5))"
   ]
  },
  {
   "cell_type": "markdown",
   "id": "0f592949",
   "metadata": {},
   "source": [
    "## map\n",
    "- syntax map(function,iteration)"
   ]
  },
  {
   "cell_type": "code",
   "execution_count": 2,
   "id": "bcdf23fb",
   "metadata": {},
   "outputs": [
    {
     "data": {
      "text/plain": [
       "{2, 4, 6, 8, 10, 12, 14}"
      ]
     },
     "execution_count": 2,
     "metadata": {},
     "output_type": "execute_result"
    }
   ],
   "source": [
    "s=set(map(lambda i:i*2,[1,2,3,4,5,6,7]))\n",
    "s"
   ]
  },
  {
   "cell_type": "code",
   "execution_count": null,
   "id": "b16f128f",
   "metadata": {},
   "outputs": [],
   "source": []
  },
  {
   "cell_type": "code",
   "execution_count": 57,
   "id": "66c89c47",
   "metadata": {},
   "outputs": [],
   "source": [
    "def mul(i):\n",
    "    return i*3\n",
    "    \n"
   ]
  },
  {
   "cell_type": "code",
   "execution_count": 58,
   "id": "04539e04",
   "metadata": {},
   "outputs": [
    {
     "data": {
      "text/plain": [
       "[6, 135, 18, 270, 18]"
      ]
     },
     "execution_count": 58,
     "metadata": {},
     "output_type": "execute_result"
    }
   ],
   "source": [
    "li=list(map(mul,[2,45,6,90,6]))\n",
    "li"
   ]
  },
  {
   "cell_type": "code",
   "execution_count": null,
   "id": "0b02121e",
   "metadata": {},
   "outputs": [],
   "source": []
  }
 ],
 "metadata": {
  "kernelspec": {
   "display_name": "Python 3 (ipykernel)",
   "language": "python",
   "name": "python3"
  },
  "language_info": {
   "codemirror_mode": {
    "name": "ipython",
    "version": 3
   },
   "file_extension": ".py",
   "mimetype": "text/x-python",
   "name": "python",
   "nbconvert_exporter": "python",
   "pygments_lexer": "ipython3",
   "version": "3.9.7"
  }
 },
 "nbformat": 4,
 "nbformat_minor": 5
}
