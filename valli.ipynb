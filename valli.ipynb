{
 "cells": [
  {
   "cell_type": "markdown",
   "id": "53d761f8",
   "metadata": {},
   "source": [
    "# welcome\n",
    "## welcome to vasavi\n",
    "### welcome to vasavi engineering\n",
    "#### welcome le students\n",
    "*python* \n",
    "\n",
    "\n",
    "\n",
    "\n"
   ]
  },
  {
   "cell_type": "code",
   "execution_count": 3,
   "id": "e9af95e2",
   "metadata": {},
   "outputs": [
    {
     "ename": "IndentationError",
     "evalue": "unexpected indent (Temp/ipykernel_1732/1864002032.py, line 4)",
     "output_type": "error",
     "traceback": [
      "\u001b[1;36m  File \u001b[1;32m\"C:\\Users\\vasavi\\AppData\\Local\\Temp/ipykernel_1732/1864002032.py\"\u001b[1;36m, line \u001b[1;32m4\u001b[0m\n\u001b[1;33m    + four\u001b[0m\n\u001b[1;37m    ^\u001b[0m\n\u001b[1;31mIndentationError\u001b[0m\u001b[1;31m:\u001b[0m unexpected indent\n"
     ]
    }
   ],
   "source": [
    "+ one  \n",
    "- two  \n",
    "* three\n",
    "    + four  \n",
    "    - two  \n",
    "    * five\n",
    "        + seven  \n",
    "        - eight  \n",
    "        * nine  \n",
    "        "
   ]
  },
  {
   "cell_type": "markdown",
   "id": "273bc9f1",
   "metadata": {},
   "source": [
    "+ one  \n",
    "- two  \n",
    "* three  \n",
    "    + four  \n",
    "    - five  \n",
    "    * six  \n"
   ]
  },
  {
   "cell_type": "markdown",
   "id": "59fa09b7",
   "metadata": {},
   "source": [
    "\n",
    "## commands:-\n",
    "- user readable code  \n",
    "- commands doesn't excute  \n",
    "- it is easy    \n"
   ]
  },
  {
   "cell_type": "markdown",
   "id": "94518f72",
   "metadata": {},
   "source": [
    "## variables:-\n",
    "- variables are used store the values  \n",
    "- varables doesn't start with underscore,and special symbols"
   ]
  },
  {
   "cell_type": "markdown",
   "id": "47fe1eeb",
   "metadata": {},
   "source": [
    "## datatypes :-\n",
    "- int(integer values)  \n",
    "- float(integer with decimal)  \n",
    "- str(combination of character and no.of character)  \n",
    "- complex(number with real)  \n",
    "- boolean(true,false)  \n",
    "\n",
    "\n",
    "\n",
    "\n",
    "- "
   ]
  },
  {
   "cell_type": "code",
   "execution_count": null,
   "id": "82284d6e",
   "metadata": {},
   "outputs": [],
   "source": []
  }
 ],
 "metadata": {
  "kernelspec": {
   "display_name": "Python 3 (ipykernel)",
   "language": "python",
   "name": "python3"
  },
  "language_info": {
   "codemirror_mode": {
    "name": "ipython",
    "version": 3
   },
   "file_extension": ".py",
   "mimetype": "text/x-python",
   "name": "python",
   "nbconvert_exporter": "python",
   "pygments_lexer": "ipython3",
   "version": "3.9.7"
  }
 },
 "nbformat": 4,
 "nbformat_minor": 5
}
